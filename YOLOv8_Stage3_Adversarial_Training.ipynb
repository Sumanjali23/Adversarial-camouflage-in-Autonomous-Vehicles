{
  "nbformat": 4,
  "nbformat_minor": 5,
  "metadata": {
    "kernelspec": {
      "display_name": "Python 3",
      "name": "python3"
    },
    "language_info": {
      "name": "python",
      "version": "3.x"
    },
    "colab": {
      "provenance": [],
      "gpuType": "T4",
      "include_colab_link": true
    }
  },
  "cells": [
    {
      "cell_type": "markdown",
      "metadata": {
        "id": "view-in-github",
        "colab_type": "text"
      },
      "source": [
        "<a href=\"https://colab.research.google.com/github/Sumanjali23/Adversarial-camouflage-in-Autonomous-Vehicles/blob/main/YOLOv8_Stage3_Adversarial_Training.ipynb\" target=\"_parent\"><img src=\"https://colab.research.google.com/assets/colab-badge.svg\" alt=\"Open In Colab\"/></a>"
      ]
    },
    {
      "cell_type": "markdown",
      "source": [
        "### 📓 YOLOv8 — Rebuild + Adversarial Training (Stage-3)\n",
        "\n",
        "This notebook **recreates the pipeline** and adds **adversarial training (AT)** with a minimal, reproducible setup.\n",
        "\n",
        "**It does:**\n",
        "- Install Ultralytics and mount Google Drive.  \n",
        "- *(Optional)* Stage-1 training on cropped speed-limit signs.  \n",
        "- Stage-2 fine-tune on driver-POV images (single class = `speedlimits`).  \n",
        "- Generate **PGD** adversarial copies for a subset of train images (**bbox-masked** to the sign area).  \n",
        "- Stage-3 **Adversarial Training** on **clean ∪ adversarial** images.  \n",
        "- *(Optional)* **JPEG-aware** fine-tune (q≈70–85) and **low-Q top-up** (q∈{60,50,40}) to handle harsh compression.  \n",
        "- Quick evaluation on your unlabeled test folder (confidence summary) + attacked & defended versions (**JPEG / bilateral**).\n",
        "\n",
        "**Quick start**\n",
        "1. Place in **My Drive/CAPSTONE**: `Data_stage2.zip`, `test.zip` (and `Data_stage1.zip` if using Stage-1), plus prior runs in `runs_speedlimits/`.  \n",
        "2. Run the notebook top-to-bottom. It **auto-finds the newest `best.pt`** under `runs_speedlimits/**/weights/` for Stage-2.  \n",
        "3. Adjust AT knobs in the config cell:  \n",
        "   `FRACTION_ADV` (0.3–0.5), `EPS=8/255`, `STEPS=10`, `PAD_PX=12`, training epochs/LR.\n",
        "\n",
        "**Outputs**\n",
        "- New weights under `runs_speedlimits/stage3_*/weights/best.pt`.  \n",
        "- CSV summaries in `eval_at_only/summaries/` (clean, PGD, PGD+JPEG, PGD+bilateral, ε-sweep, etc.).\n",
        "\n",
        "**Notes**\n",
        "- This is **offline AT** (craft once, then fine-tune) — fast and effective for this project.  \n",
        "- Tested environment: Ultralytics ≥ **8.3.x**, NumPy **2.0.2**, Torch **2.6.0+cu124** (Colab T4).\n"
      ],
      "metadata": {
        "id": "bnFe6Vq777q7"
      },
      "id": "bnFe6Vq777q7"
    },
    {
      "cell_type": "markdown",
      "metadata": {
        "id": "haIIhVRLNbNV"
      },
      "source": [
        "##  Setup & Drive mount\n"
      ],
      "id": "haIIhVRLNbNV"
    },
    {
      "cell_type": "code",
      "source": [
        "#  setup\n",
        "from google.colab import drive\n",
        "\n",
        "\n",
        "try:\n",
        "    drive.flush_and_unmount()\n",
        "except ValueError:\n",
        "    pass\n",
        "\n",
        "drive.mount('/content/drive', force_remount=True)\n",
        "\n",
        "# Install versions that are compatible with NumPy 2 and Colab's Torch\n",
        "%pip -q install --no-cache-dir -U \"numpy==2.0.2\" \"ultralytics>=8.3.0\" opencv-python-headless==4.10.0.84 matplotlib==3.8.4\n",
        "\n",
        "# Imports\n",
        "import numpy as np, torch, cv2\n",
        "from ultralytics import YOLO\n",
        "import os, glob, shutil, zipfile, math, csv\n",
        "\n",
        "print(\"NumPy:\", np.__version__)\n",
        "print(\"Torch:\", torch.__version__)\n",
        "print(\"CUDA available:\", torch.cuda.is_available())\n",
        "print(\"OpenCV:\", cv2.__version__)"
      ],
      "metadata": {
        "colab": {
          "base_uri": "https://localhost:8080/"
        },
        "id": "2UqoWLEzuwt-",
        "outputId": "885ea3a3-31aa-4d27-a6cf-c7f4dff766c1"
      },
      "id": "2UqoWLEzuwt-",
      "execution_count": 1,
      "outputs": [
        {
          "output_type": "stream",
          "name": "stdout",
          "text": [
            "Drive not mounted, so nothing to flush and unmount.\n",
            "Mounted at /content/drive\n",
            "\u001b[2K   \u001b[90m━━━━━━━━━━━━━━━━━━━━━━━━━━━━━━━━━━━━━━━━\u001b[0m \u001b[32m49.9/49.9 MB\u001b[0m \u001b[31m126.4 MB/s\u001b[0m eta \u001b[36m0:00:00\u001b[0m\n",
            "\u001b[2K   \u001b[90m━━━━━━━━━━━━━━━━━━━━━━━━━━━━━━━━━━━━━━━━\u001b[0m \u001b[32m11.6/11.6 MB\u001b[0m \u001b[31m133.6 MB/s\u001b[0m eta \u001b[36m0:00:00\u001b[0m\n",
            "\u001b[2K   \u001b[90m━━━━━━━━━━━━━━━━━━━━━━━━━━━━━━━━━━━━━━━━\u001b[0m \u001b[32m1.0/1.0 MB\u001b[0m \u001b[31m239.3 MB/s\u001b[0m eta \u001b[36m0:00:00\u001b[0m\n",
            "\u001b[?25hCreating new Ultralytics Settings v0.0.6 file ✅ \n",
            "View Ultralytics Settings with 'yolo settings' or at '/root/.config/Ultralytics/settings.json'\n",
            "Update Settings with 'yolo settings key=value', i.e. 'yolo settings runs_dir=path/to/dir'. For help see https://docs.ultralytics.com/quickstart/#ultralytics-settings.\n",
            "NumPy: 2.0.2\n",
            "Torch: 2.8.0+cu126\n",
            "CUDA available: False\n",
            "OpenCV: 4.10.0\n"
          ]
        }
      ]
    },
    {
      "cell_type": "code",
      "source": [
        "# paths & unzip (idempotent)\n",
        "import os, glob, shutil, zipfile\n",
        "\n",
        "DRIVE_ROOT = \"/content/drive/MyDrive/CAPSTONE\"\n",
        "\n",
        "DATA_STAGE1_ZIP = f\"{DRIVE_ROOT}/Data_stage1.zip\"\n",
        "DATA_STAGE2_ZIP = f\"{DRIVE_ROOT}/Data_stage2.zip\"\n",
        "TEST_ZIP        = f\"{DRIVE_ROOT}/test.zip\"\n",
        "\n",
        "DATA_STAGE1 = f\"{DRIVE_ROOT}/data_stage1\"\n",
        "DATA_STAGE2 = f\"{DRIVE_ROOT}/data_stage2\"\n",
        "TEST_IMAGES = f\"{DRIVE_ROOT}/test_images\"\n",
        "PROJECT     = f\"{DRIVE_ROOT}/runs_speedlimits\"\n",
        "\n",
        "for d in [DATA_STAGE1, DATA_STAGE2, TEST_IMAGES, PROJECT]:\n",
        "    os.makedirs(d, exist_ok=True)\n",
        "\n",
        "def unzip_into(zip_path, out_dir):\n",
        "    if not os.path.exists(zip_path):\n",
        "        print(\"Zip not found (skip):\", zip_path); return\n",
        "    if any(os.scandir(out_dir)):\n",
        "        print(\"Skip unzip (already populated):\", out_dir); return\n",
        "    print(\"Unzipping\", zip_path, \"→\", out_dir)\n",
        "    with zipfile.ZipFile(zip_path, 'r') as zf:\n",
        "        zf.extractall(out_dir)\n",
        "\n",
        "    entries = [e for e in os.scandir(out_dir)]\n",
        "    if len(entries) == 1 and entries[0].is_dir():\n",
        "        inner = entries[0].path\n",
        "        for e in os.scandir(inner):\n",
        "            shutil.move(e.path, os.path.join(out_dir, os.path.basename(e.path)))\n",
        "        shutil.rmtree(inner, ignore_errors=True)\n",
        "    print(\"Done unzip:\", out_dir)\n",
        "\n",
        "unzip_into(DATA_STAGE1_ZIP, DATA_STAGE1)\n",
        "unzip_into(DATA_STAGE2_ZIP, DATA_STAGE2)\n",
        "unzip_into(TEST_ZIP,        TEST_IMAGES)\n",
        "\n",
        "print(\"Stage2 data:\", DATA_STAGE2)\n",
        "print(\"Test images:\", TEST_IMAGES)\n"
      ],
      "metadata": {
        "colab": {
          "base_uri": "https://localhost:8080/"
        },
        "id": "A4oijpXUvBry",
        "outputId": "690cef2d-1ea6-4940-8e51-1765947204b5"
      },
      "id": "A4oijpXUvBry",
      "execution_count": null,
      "outputs": [
        {
          "output_type": "stream",
          "name": "stdout",
          "text": [
            "Skip unzip (already populated): /content/drive/MyDrive/CAPSTONE/data_stage1\n",
            "Skip unzip (already populated): /content/drive/MyDrive/CAPSTONE/data_stage2\n",
            "Skip unzip (already populated): /content/drive/MyDrive/CAPSTONE/test_images\n",
            "Stage2 data: /content/drive/MyDrive/CAPSTONE/data_stage2\n",
            "Test images: /content/drive/MyDrive/CAPSTONE/test_images\n"
          ]
        }
      ]
    },
    {
      "cell_type": "code",
      "source": [
        "# find newest Stage-2 best.pt under runs_speedlimits/**/weights/\n",
        "import glob, os\n",
        "\n",
        "cands = glob.glob(f\"{PROJECT}/**/weights/best.pt\", recursive=True)\n",
        "if not cands:\n",
        "    raise FileNotFoundError(\n",
        "        \"No best.pt found under CAPSTONE/runs_speedlimits/**/weights/.\\n\"\n",
        "        \"If you know it, set STAGE2_WEIGHTS manually below and re-run.\"\n",
        "    )\n",
        "\n",
        "STAGE2_WEIGHTS = max(cands, key=os.path.getmtime)\n",
        "print(\"Using Stage-2 weights:\", STAGE2_WEIGHTS)\n"
      ],
      "metadata": {
        "colab": {
          "base_uri": "https://localhost:8080/"
        },
        "id": "wNDjfQ5GvK1m",
        "outputId": "86549083-8650-4564-ef19-5d8b43a82bf1"
      },
      "id": "wNDjfQ5GvK1m",
      "execution_count": null,
      "outputs": [
        {
          "output_type": "stream",
          "name": "stdout",
          "text": [
            "Using Stage-2 weights: /content/drive/MyDrive/CAPSTONE/runs_speedlimits/stage2_adv_ft_eps4_subset2/weights/best.pt\n"
          ]
        }
      ]
    },
    {
      "cell_type": "code",
      "source": [
        "#  Adversarial Training hyperparameters\n",
        "\n",
        "# image sizes\n",
        "IMGSZ_TRAIN  = 640\n",
        "IMGSZ_INFER  = 896\n",
        "\n",
        "# PGD attack settings (used to create adversarial TRAIN copies)\n",
        "FRACTION_ADV = 0.5\n",
        "EPS          = 8/255\n",
        "ALPHA        = 2/255\n",
        "STEPS        = 10\n",
        "PAD_PX       = 12\n",
        "RAND_START   = True\n",
        "\n",
        "# Stage-3 fine-tune settings\n",
        "EPOCHS_S3    = 15\n",
        "BATCH_S3     = 8\n",
        "LR0_S3       = 0.0015\n"
      ],
      "metadata": {
        "id": "QUTh4BNdvQNE"
      },
      "id": "QUTh4BNdvQNE",
      "execution_count": null,
      "outputs": []
    },
    {
      "cell_type": "code",
      "source": [
        "#  helpers (letterbox, mask, read YOLO labels)\n",
        "import math, os, cv2, numpy as np\n",
        "\n",
        "def letterbox(im, new_shape=IMGSZ_TRAIN, color=(114,114,114)):\n",
        "    h, w = im.shape[:2]\n",
        "    r = min(new_shape / h, new_shape / w)\n",
        "    nh, nw = int(round(h * r)), int(round(w * r))\n",
        "    im_resized = cv2.resize(im, (nw, nh), interpolation=cv2.INTER_LINEAR)\n",
        "    top = (new_shape - nh) // 2\n",
        "    bottom = new_shape - nh - top\n",
        "    left = (new_shape - nw) // 2\n",
        "    right = new_shape - nw - left\n",
        "    im_padded = cv2.copyMakeBorder(im_resized, top, bottom, left, right, cv2.BORDER_CONSTANT, value=color)\n",
        "    return im_padded, r, (left, top), (nh, nw)\n",
        "\n",
        "def mask_from_xyxy(x1,y1,x2,y2, H, W, pad=0):\n",
        "    x1 = max(0, int(math.floor(x1 - pad)))\n",
        "    y1 = max(0, int(math.floor(y1 - pad)))\n",
        "    x2 = min(W, int(math.ceil (x2 + pad)))\n",
        "    y2 = min(H, int(math.ceil (y2 + pad)))\n",
        "    m = np.zeros((H,W,1), np.float32)\n",
        "    m[y1:y2, x1:x2, 0] = 1.0\n",
        "    return m\n",
        "\n",
        "def read_yolo_labels(lbl_path, W, H):\n",
        "    \"\"\"YOLO .txt: class cx cy w h (normalized) → list of [x1,y1,x2,y2] in pixels.\"\"\"\n",
        "    boxes = []\n",
        "    if not os.path.exists(lbl_path):\n",
        "        return boxes\n",
        "    with open(lbl_path, \"r\") as f:\n",
        "        for line in f:\n",
        "            parts = line.strip().split()\n",
        "            if len(parts) < 5:\n",
        "                continue\n",
        "            _, cx, cy, w, h = map(float, parts[:5])\n",
        "            cx *= W; cy *= H; w *= W; h *= H\n",
        "            x1 = cx - w/2; y1 = cy - h/2; x2 = cx + w/2; y2 = cy + h/2\n",
        "            boxes.append([x1,y1,x2,y2])\n",
        "    return boxes\n"
      ],
      "metadata": {
        "id": "wKHRZK8evVX5"
      },
      "id": "wKHRZK8evVX5",
      "execution_count": null,
      "outputs": []
    },
    {
      "cell_type": "code",
      "source": [
        "#  build mixed train set (clean ∪ adversarial PGD copies)\n",
        "\n",
        "import os, glob, shutil, cv2, torch, numpy as np\n",
        "from ultralytics import YOLO\n",
        "\n",
        "# Stage-2 train folders\n",
        "STAGE2_TRAIN_IMG = f\"{DATA_STAGE2}/train/images\"\n",
        "STAGE2_TRAIN_LBL = f\"{DATA_STAGE2}/train/labels\"\n",
        "\n",
        "# Output mixed dataset (clean + adversarial copies)\n",
        "DATA_STAGE2_ADV_IMG = f\"{DRIVE_ROOT}/data_stage2_adv/train/images\"\n",
        "DATA_STAGE2_ADV_LBL = f\"{DRIVE_ROOT}/data_stage2_adv/train/labels\"\n",
        "os.makedirs(DATA_STAGE2_ADV_IMG, exist_ok=True)\n",
        "os.makedirs(DATA_STAGE2_ADV_LBL, exist_ok=True)\n",
        "\n",
        "# 1) Copy all clean images and labels (safe to re-run; will overwrite)\n",
        "for p in glob.glob(os.path.join(STAGE2_TRAIN_IMG, \"*\")):\n",
        "    shutil.copy2(p, os.path.join(DATA_STAGE2_ADV_IMG, os.path.basename(p)))\n",
        "for p in glob.glob(os.path.join(STAGE2_TRAIN_LBL, \"*.txt\")):\n",
        "    shutil.copy2(p, os.path.join(DATA_STAGE2_ADV_LBL, os.path.basename(p)))\n",
        "\n",
        "# 2) Pick subset to attack (~FRACTION_ADV)\n",
        "all_imgs = sorted(glob.glob(os.path.join(STAGE2_TRAIN_IMG, \"*\")))\n",
        "step = max(1, int(round(1.0 / max(1e-6, FRACTION_ADV))))\n",
        "attack_imgs = all_imgs[::step]\n",
        "print(f\"Will create adversarial copies for ~{len(attack_imgs)} / {len(all_imgs)} train images\")\n",
        "\n",
        "# 3) Load raw model for gradients\n",
        "raw_model = YOLO(STAGE2_WEIGHTS).model\n",
        "if torch.cuda.is_available():\n",
        "    raw_model = raw_model.cuda()\n",
        "device = next(raw_model.parameters()).device\n",
        "raw_model.eval()\n",
        "\n",
        "def collect_tensors(x):\n",
        "    import torch as _torch\n",
        "    if _torch.is_tensor(x):\n",
        "        return [x]\n",
        "    out = []\n",
        "    try:\n",
        "        for it in x:\n",
        "            out.extend(collect_tensors(it))\n",
        "    except Exception:\n",
        "        pass\n",
        "    return out\n",
        "\n",
        "made = 0\n",
        "for i, img_path in enumerate(attack_imgs, 1):\n",
        "    stem, ext = os.path.splitext(os.path.basename(img_path))\n",
        "    lbl_path = os.path.join(STAGE2_TRAIN_LBL, stem + \".txt\")\n",
        "\n",
        "    im0_bgr = cv2.imread(img_path)\n",
        "    if im0_bgr is None:\n",
        "        continue\n",
        "    im0_rgb = im0_bgr[:, :, ::-1]\n",
        "    H0, W0 = im0_rgb.shape[:2]\n",
        "\n",
        "    # read GT boxes; skip images without labels\n",
        "    gt_boxes = read_yolo_labels(lbl_path, W0, H0)\n",
        "    if not gt_boxes:\n",
        "        continue\n",
        "\n",
        "    # letterbox to square\n",
        "    im_sq, r, (px,py), (nh,nw) = letterbox(im0_rgb, IMGSZ_TRAIN)\n",
        "    H = W = IMGSZ_TRAIN\n",
        "\n",
        "    # union mask over GT boxes with padding\n",
        "    mask_sq = np.zeros((H, W, 1), np.float32)\n",
        "    for (x1o,y1o,x2o,y2o) in gt_boxes:\n",
        "        x1 = x1o * r + px; y1 = y1o * r + py\n",
        "        x2 = x2o * r + px; y2 = y2o * r + py\n",
        "        mask_sq = np.maximum(mask_sq, mask_from_xyxy(x1,y1,x2,y2, H, W, pad=PAD_PX))\n",
        "\n",
        "    # tensors\n",
        "    img_sq = im_sq.astype(np.float32) / 255.0\n",
        "    img_t  = torch.from_numpy(img_sq).permute(2,0,1).unsqueeze(0).to(device)   # [1,3,H,W]\n",
        "    mask_t = torch.from_numpy(mask_sq).permute(2,0,1).unsqueeze(0).to(device)  # [1,1,H,W]\n",
        "    img_t  = img_t.clamp(0,1).detach()\n",
        "\n",
        "    # init adversarial image\n",
        "    if RAND_START:\n",
        "        adv = (img_t + (torch.empty_like(img_t).uniform_(-EPS, EPS)) * mask_t).clamp(0,1).detach()\n",
        "    else:\n",
        "        adv = img_t.clone().detach()\n",
        "    adv.requires_grad_(True)\n",
        "\n",
        "    # PGD steps (descend on proxy = mean(obj*cls))\n",
        "    for _ in range(STEPS):\n",
        "        raw_model.zero_grad(set_to_none=True)\n",
        "        adv.retain_grad()\n",
        "        out = raw_model(adv, augment=False)[0]\n",
        "\n",
        "        parts = collect_tensors(out)\n",
        "        scalars = []\n",
        "        for t in parts:\n",
        "            if t.dim() == 5:        # [B, A, H, W, C]\n",
        "                B,A,HH,WW,C = t.shape\n",
        "                T = t.permute(0,2,3,1,4).reshape(B, HH*WW*A, C)\n",
        "            elif t.dim() == 4:      # [B, C, H, W]\n",
        "                B,C,HH,WW = t.shape\n",
        "                T = t.permute(0,2,3,1).reshape(B, HH*WW, C)\n",
        "            elif t.dim() == 3:\n",
        "                T = t\n",
        "            else:\n",
        "                T = t.view(t.shape[0], -1, t.shape[-1])\n",
        "\n",
        "            Cc = T.shape[-1]\n",
        "            if Cc >= 5:\n",
        "                obj = torch.sigmoid(T[..., 4])\n",
        "                if Cc > 5:\n",
        "                    cls = torch.sigmoid(T[..., 5:]).max(dim=-1).values\n",
        "                else:\n",
        "                    cls = torch.ones_like(obj)\n",
        "                scalars.append((obj * cls).mean())\n",
        "\n",
        "        if not scalars:\n",
        "            break\n",
        "\n",
        "        proxy = sum(scalars) / len(scalars)\n",
        "        proxy.backward()\n",
        "        grad_sign = adv.grad.sign()\n",
        "\n",
        "        adv = (adv - ALPHA * grad_sign * mask_t).clamp(0,1).detach()\n",
        "        # project back into L_inf ball around img_t\n",
        "        delta = (adv - img_t).clamp(-EPS, EPS) * mask_t\n",
        "        adv   = (img_t + delta).clamp(0,1).detach()\n",
        "        adv.requires_grad_(True)\n",
        "\n",
        "    # map perturbation back to original size and save\n",
        "    adv_sq = adv.detach().cpu().numpy()[0].transpose(1,2,0)  # HWC RGB\n",
        "    delta_sq  = adv_sq - img_sq\n",
        "    delta_crop = delta_sq[py:py+nh, px:px+nw, :]\n",
        "    delta_orig = cv2.resize(delta_crop, (W0, H0), interpolation=cv2.INTER_LINEAR)\n",
        "    adv_orig = (im0_rgb.astype(np.float32)/255.0 + delta_orig).clip(0,1)\n",
        "    adv_bgr  = (adv_orig[:, :, ::-1] * 255.0).astype(np.uint8)\n",
        "\n",
        "    adv_name = f\"{stem}_adv{ext}\"\n",
        "    cv2.imwrite(os.path.join(DATA_STAGE2_ADV_IMG, adv_name), adv_bgr)\n",
        "    shutil.copy2(lbl_path, os.path.join(DATA_STAGE2_ADV_LBL, f\"{stem}_adv.txt\"))\n",
        "\n",
        "    made += 1\n",
        "    if i % 50 == 0:\n",
        "        print(f\"Created {made}/{len(attack_imgs)} adversarial copies\")\n",
        "\n",
        "print(\"Adversarial copies created:\", made)\n"
      ],
      "metadata": {
        "colab": {
          "base_uri": "https://localhost:8080/"
        },
        "id": "RhJQxjk9va5k",
        "outputId": "629d7e93-35db-4bd7-a50e-96eb5575aa07"
      },
      "id": "RhJQxjk9va5k",
      "execution_count": null,
      "outputs": [
        {
          "output_type": "stream",
          "name": "stdout",
          "text": [
            "Will create adversarial copies for ~104 / 207 train images\n",
            "Created 50/104 adversarial copies\n",
            "Created 100/104 adversarial copies\n",
            "Adversarial copies created: 104\n"
          ]
        }
      ]
    },
    {
      "cell_type": "code",
      "source": [
        "#  Stage-3 YAML\n",
        "STAGE3_YAML = \"/content/speedlimits_stage3.yaml\"\n",
        "with open(STAGE3_YAML, \"w\") as f:\n",
        "    f.write(\n",
        "        f\"train: {DRIVE_ROOT}/data_stage2_adv/train/images\\n\"\n",
        "        f\"val:   {DATA_STAGE2}/valid/images\\n\"\n",
        "        f\"nc: 1\\n\"\n",
        "        f\"names: [speedlimits]\\n\"\n",
        "    )\n",
        "print(open(STAGE3_YAML).read())\n"
      ],
      "metadata": {
        "colab": {
          "base_uri": "https://localhost:8080/"
        },
        "id": "5zO8Ahbeviq2",
        "outputId": "b5b0ce7a-ccac-4b98-8855-5423f63153e5"
      },
      "id": "5zO8Ahbeviq2",
      "execution_count": null,
      "outputs": [
        {
          "output_type": "stream",
          "name": "stdout",
          "text": [
            "train: /content/drive/MyDrive/CAPSTONE/data_stage2_adv/train/images\n",
            "val:   /content/drive/MyDrive/CAPSTONE/data_stage2/valid/images\n",
            "nc: 1\n",
            "names: [speedlimits]\n",
            "\n"
          ]
        }
      ]
    },
    {
      "cell_type": "code",
      "source": [
        "#  Stage-3 adversarial fine-tune\n",
        "from ultralytics import YOLO\n",
        "import torch\n",
        "\n",
        "print(\"Running Stage-3 adversarial fine-tune...\")\n",
        "model = YOLO(STAGE2_WEIGHTS)\n",
        "\n",
        "r = model.train(\n",
        "    data=STAGE3_YAML,\n",
        "    epochs=EPOCHS_S3,        # e.g., 15\n",
        "    imgsz=IMGSZ_TRAIN,       # 640\n",
        "    batch=BATCH_S3,          # e.g., 8 (lower to 4 if OOM)\n",
        "    lr0=LR0_S3,              # 0.0015\n",
        "    cos_lr=True,\n",
        "    weight_decay=0.0005,\n",
        "    patience=5,\n",
        "    device=0 if torch.cuda.is_available() else None,\n",
        "    project=PROJECT,\n",
        "    name=\"stage3_advtrain\",\n",
        ")\n",
        "\n",
        "STAGE3_WEIGHTS = f\"{PROJECT}/stage3_advtrain/weights/best.pt\"\n",
        "print(\"Stage-3 best weights:\", STAGE3_WEIGHTS)\n"
      ],
      "metadata": {
        "colab": {
          "base_uri": "https://localhost:8080/"
        },
        "id": "qP9-H2oMv-wq",
        "outputId": "6ec578f9-8120-4130-c5ac-926efd37f3e8"
      },
      "id": "qP9-H2oMv-wq",
      "execution_count": null,
      "outputs": [
        {
          "output_type": "stream",
          "name": "stdout",
          "text": [
            "Running Stage-3 adversarial fine-tune...\n",
            "Ultralytics 8.3.179 🚀 Python-3.11.13 torch-2.6.0+cu124 CUDA:0 (Tesla T4, 15095MiB)\n",
            "\u001b[34m\u001b[1mengine/trainer: \u001b[0magnostic_nms=False, amp=True, augment=False, auto_augment=randaugment, batch=8, bgr=0.0, box=7.5, cache=False, cfg=None, classes=None, close_mosaic=10, cls=0.5, conf=None, copy_paste=0.0, copy_paste_mode=flip, cos_lr=True, cutmix=0.0, data=/content/speedlimits_stage3.yaml, degrees=0.0, deterministic=True, device=0, dfl=1.5, dnn=False, dropout=0.0, dynamic=False, embed=None, epochs=15, erasing=0.4, exist_ok=False, fliplr=0.5, flipud=0.0, format=torchscript, fraction=1.0, freeze=None, half=False, hsv_h=0.015, hsv_s=0.7, hsv_v=0.4, imgsz=640, int8=False, iou=0.7, keras=False, kobj=1.0, line_width=None, lr0=0.0015, lrf=0.01, mask_ratio=4, max_det=300, mixup=0.0, mode=train, model=/content/drive/MyDrive/CAPSTONE/runs_speedlimits/stage2_adv_ft_eps4_subset2/weights/best.pt, momentum=0.937, mosaic=1.0, multi_scale=False, name=stage3_advtrain, nbs=64, nms=False, opset=None, optimize=False, optimizer=auto, overlap_mask=True, patience=5, perspective=0.0, plots=True, pose=12.0, pretrained=True, profile=False, project=/content/drive/MyDrive/CAPSTONE/runs_speedlimits, rect=False, resume=False, retina_masks=False, save=True, save_conf=False, save_crop=False, save_dir=/content/drive/MyDrive/CAPSTONE/runs_speedlimits/stage3_advtrain, save_frames=False, save_json=False, save_period=-1, save_txt=False, scale=0.5, seed=0, shear=0.0, show=False, show_boxes=True, show_conf=True, show_labels=True, simplify=True, single_cls=False, source=None, split=val, stream_buffer=False, task=detect, time=None, tracker=botsort.yaml, translate=0.1, val=True, verbose=True, vid_stride=1, visualize=False, warmup_bias_lr=0.1, warmup_epochs=3.0, warmup_momentum=0.8, weight_decay=0.0005, workers=8, workspace=None\n"
          ]
        },
        {
          "output_type": "stream",
          "name": "stderr",
          "text": [
            "Downloading https://ultralytics.com/assets/Arial.ttf to '/root/.config/Ultralytics/Arial.ttf': 100%|██████████| 755k/755k [00:00<00:00, 22.3MB/s]"
          ]
        },
        {
          "output_type": "stream",
          "name": "stdout",
          "text": [
            "\n",
            "                   from  n    params  module                                       arguments                     \n",
            "  0                  -1  1       464  ultralytics.nn.modules.conv.Conv             [3, 16, 3, 2]                 \n",
            "  1                  -1  1      4672  ultralytics.nn.modules.conv.Conv             [16, 32, 3, 2]                \n",
            "  2                  -1  1      7360  ultralytics.nn.modules.block.C2f             [32, 32, 1, True]             \n",
            "  3                  -1  1     18560  ultralytics.nn.modules.conv.Conv             [32, 64, 3, 2]                \n",
            "  4                  -1  2     49664  ultralytics.nn.modules.block.C2f             [64, 64, 2, True]             \n",
            "  5                  -1  1     73984  ultralytics.nn.modules.conv.Conv             [64, 128, 3, 2]               \n",
            "  6                  -1  2    197632  ultralytics.nn.modules.block.C2f             [128, 128, 2, True]           \n",
            "  7                  -1  1    295424  ultralytics.nn.modules.conv.Conv             [128, 256, 3, 2]              \n",
            "  8                  -1  1    460288  ultralytics.nn.modules.block.C2f             [256, 256, 1, True]           \n",
            "  9                  -1  1    164608  ultralytics.nn.modules.block.SPPF            [256, 256, 5]                 \n",
            " 10                  -1  1         0  torch.nn.modules.upsampling.Upsample         [None, 2, 'nearest']          \n",
            " 11             [-1, 6]  1         0  ultralytics.nn.modules.conv.Concat           [1]                           \n",
            " 12                  -1  1    148224  ultralytics.nn.modules.block.C2f             [384, 128, 1]                 \n",
            " 13                  -1  1         0  torch.nn.modules.upsampling.Upsample         [None, 2, 'nearest']          \n",
            " 14             [-1, 4]  1         0  ultralytics.nn.modules.conv.Concat           [1]                           \n",
            " 15                  -1  1     37248  ultralytics.nn.modules.block.C2f             [192, 64, 1]                  \n",
            " 16                  -1  1     36992  ultralytics.nn.modules.conv.Conv             [64, 64, 3, 2]                \n",
            " 17            [-1, 12]  1         0  ultralytics.nn.modules.conv.Concat           [1]                           \n",
            " 18                  -1  1    123648  ultralytics.nn.modules.block.C2f             [192, 128, 1]                 \n",
            " 19                  -1  1    147712  ultralytics.nn.modules.conv.Conv             [128, 128, 3, 2]              \n",
            " 20             [-1, 9]  1         0  ultralytics.nn.modules.conv.Concat           [1]                           \n",
            " 21                  -1  1    493056  ultralytics.nn.modules.block.C2f             [384, 256, 1]                 \n",
            " 22        [15, 18, 21]  1    751507  ultralytics.nn.modules.head.Detect           [1, [64, 128, 256]]           \n"
          ]
        },
        {
          "output_type": "stream",
          "name": "stderr",
          "text": [
            "\n"
          ]
        },
        {
          "output_type": "stream",
          "name": "stdout",
          "text": [
            "Model summary: 129 layers, 3,011,043 parameters, 3,011,027 gradients, 8.2 GFLOPs\n",
            "\n",
            "Transferred 355/355 items from pretrained weights\n",
            "Freezing layer 'model.22.dfl.conv.weight'\n",
            "\u001b[34m\u001b[1mAMP: \u001b[0mrunning Automatic Mixed Precision (AMP) checks...\n"
          ]
        },
        {
          "output_type": "stream",
          "name": "stderr",
          "text": [
            "Downloading https://github.com/ultralytics/assets/releases/download/v8.3.0/yolo11n.pt to 'yolo11n.pt': 100%|██████████| 5.35M/5.35M [00:00<00:00, 84.6MB/s]\n"
          ]
        },
        {
          "output_type": "stream",
          "name": "stdout",
          "text": [
            "\u001b[34m\u001b[1mAMP: \u001b[0mchecks passed ✅\n",
            "\u001b[34m\u001b[1mtrain: \u001b[0mFast image access ✅ (ping: 0.3±0.1 ms, read: 16.3±3.2 MB/s, size: 36.4 KB)\n"
          ]
        },
        {
          "output_type": "stream",
          "name": "stderr",
          "text": [
            "\u001b[34m\u001b[1mtrain: \u001b[0mScanning /content/drive/MyDrive/CAPSTONE/data_stage2_adv/train/labels... 311 images, 0 backgrounds, 0 corrupt: 100%|██████████| 311/311 [00:02<00:00, 113.41it/s]\n"
          ]
        },
        {
          "output_type": "stream",
          "name": "stdout",
          "text": [
            "\u001b[34m\u001b[1mtrain: \u001b[0mNew cache created: /content/drive/MyDrive/CAPSTONE/data_stage2_adv/train/labels.cache\n",
            "\u001b[34m\u001b[1malbumentations: \u001b[0mBlur(p=0.01, blur_limit=(3, 7)), MedianBlur(p=0.01, blur_limit=(3, 7)), ToGray(p=0.01, method='weighted_average', num_output_channels=3), CLAHE(p=0.01, clip_limit=(1.0, 4.0), tile_grid_size=(8, 8))\n",
            "\u001b[34m\u001b[1mval: \u001b[0mFast image access ✅ (ping: 0.5±0.1 ms, read: 0.1±0.0 MB/s, size: 37.0 KB)\n"
          ]
        },
        {
          "output_type": "stream",
          "name": "stderr",
          "text": [
            "\u001b[34m\u001b[1mval: \u001b[0mScanning /content/drive/MyDrive/CAPSTONE/data_stage2/valid/labels... 52 images, 0 backgrounds, 0 corrupt: 100%|██████████| 52/52 [00:32<00:00,  1.61it/s]"
          ]
        },
        {
          "output_type": "stream",
          "name": "stdout",
          "text": [
            "\u001b[34m\u001b[1mval: \u001b[0mNew cache created: /content/drive/MyDrive/CAPSTONE/data_stage2/valid/labels.cache\n"
          ]
        },
        {
          "output_type": "stream",
          "name": "stderr",
          "text": [
            "\n"
          ]
        },
        {
          "output_type": "stream",
          "name": "stdout",
          "text": [
            "Plotting labels to /content/drive/MyDrive/CAPSTONE/runs_speedlimits/stage3_advtrain/labels.jpg... \n",
            "\u001b[34m\u001b[1moptimizer:\u001b[0m 'optimizer=auto' found, ignoring 'lr0=0.0015' and 'momentum=0.937' and determining best 'optimizer', 'lr0' and 'momentum' automatically... \n",
            "\u001b[34m\u001b[1moptimizer:\u001b[0m AdamW(lr=0.002, momentum=0.9) with parameter groups 57 weight(decay=0.0), 64 weight(decay=0.0005), 63 bias(decay=0.0)\n",
            "Image sizes 640 train, 640 val\n",
            "Using 2 dataloader workers\n",
            "Logging results to \u001b[1m/content/drive/MyDrive/CAPSTONE/runs_speedlimits/stage3_advtrain\u001b[0m\n",
            "Starting training for 15 epochs...\n",
            "\n",
            "      Epoch    GPU_mem   box_loss   cls_loss   dfl_loss  Instances       Size\n"
          ]
        },
        {
          "output_type": "stream",
          "name": "stderr",
          "text": [
            "       1/15      1.16G     0.6807     0.4545     0.8786          8        640: 100%|██████████| 39/39 [00:09<00:00,  3.98it/s]\n",
            "                 Class     Images  Instances      Box(P          R      mAP50  mAP50-95): 100%|██████████| 4/4 [00:01<00:00,  2.58it/s]"
          ]
        },
        {
          "output_type": "stream",
          "name": "stdout",
          "text": [
            "                   all         52         52      0.998          1      0.995      0.873\n"
          ]
        },
        {
          "output_type": "stream",
          "name": "stderr",
          "text": [
            "\n"
          ]
        },
        {
          "output_type": "stream",
          "name": "stdout",
          "text": [
            "\n",
            "      Epoch    GPU_mem   box_loss   cls_loss   dfl_loss  Instances       Size\n"
          ]
        },
        {
          "output_type": "stream",
          "name": "stderr",
          "text": [
            "       2/15      1.41G     0.7241     0.5127     0.8881         13        640: 100%|██████████| 39/39 [00:06<00:00,  5.87it/s]\n",
            "                 Class     Images  Instances      Box(P          R      mAP50  mAP50-95): 100%|██████████| 4/4 [00:00<00:00,  7.59it/s]"
          ]
        },
        {
          "output_type": "stream",
          "name": "stdout",
          "text": [
            "                   all         52         52      0.999          1      0.995      0.874\n"
          ]
        },
        {
          "output_type": "stream",
          "name": "stderr",
          "text": [
            "\n"
          ]
        },
        {
          "output_type": "stream",
          "name": "stdout",
          "text": [
            "\n",
            "      Epoch    GPU_mem   box_loss   cls_loss   dfl_loss  Instances       Size\n"
          ]
        },
        {
          "output_type": "stream",
          "name": "stderr",
          "text": [
            "       3/15      1.42G     0.7552     0.5136     0.8861         11        640: 100%|██████████| 39/39 [00:08<00:00,  4.82it/s]\n",
            "                 Class     Images  Instances      Box(P          R      mAP50  mAP50-95): 100%|██████████| 4/4 [00:00<00:00,  8.37it/s]"
          ]
        },
        {
          "output_type": "stream",
          "name": "stdout",
          "text": [
            "                   all         52         52      0.997          1      0.995      0.848\n"
          ]
        },
        {
          "output_type": "stream",
          "name": "stderr",
          "text": [
            "\n"
          ]
        },
        {
          "output_type": "stream",
          "name": "stdout",
          "text": [
            "\n",
            "      Epoch    GPU_mem   box_loss   cls_loss   dfl_loss  Instances       Size\n"
          ]
        },
        {
          "output_type": "stream",
          "name": "stderr",
          "text": [
            "       4/15      1.44G     0.7451     0.5153     0.9037          8        640: 100%|██████████| 39/39 [00:07<00:00,  5.24it/s]\n",
            "                 Class     Images  Instances      Box(P          R      mAP50  mAP50-95): 100%|██████████| 4/4 [00:01<00:00,  3.85it/s]"
          ]
        },
        {
          "output_type": "stream",
          "name": "stdout",
          "text": [
            "                   all         52         52          1          1      0.995      0.863\n"
          ]
        },
        {
          "output_type": "stream",
          "name": "stderr",
          "text": [
            "\n"
          ]
        },
        {
          "output_type": "stream",
          "name": "stdout",
          "text": [
            "\n",
            "      Epoch    GPU_mem   box_loss   cls_loss   dfl_loss  Instances       Size\n"
          ]
        },
        {
          "output_type": "stream",
          "name": "stderr",
          "text": [
            "       5/15      1.46G     0.7436     0.5139     0.8948         10        640: 100%|██████████| 39/39 [00:06<00:00,  6.11it/s]\n",
            "                 Class     Images  Instances      Box(P          R      mAP50  mAP50-95): 100%|██████████| 4/4 [00:00<00:00, 10.46it/s]"
          ]
        },
        {
          "output_type": "stream",
          "name": "stdout",
          "text": [
            "                   all         52         52      0.996          1      0.995      0.865\n"
          ]
        },
        {
          "output_type": "stream",
          "name": "stderr",
          "text": [
            "\n"
          ]
        },
        {
          "output_type": "stream",
          "name": "stdout",
          "text": [
            "Closing dataloader mosaic\n",
            "\u001b[34m\u001b[1malbumentations: \u001b[0mBlur(p=0.01, blur_limit=(3, 7)), MedianBlur(p=0.01, blur_limit=(3, 7)), ToGray(p=0.01, method='weighted_average', num_output_channels=3), CLAHE(p=0.01, clip_limit=(1.0, 4.0), tile_grid_size=(8, 8))\n",
            "\n",
            "      Epoch    GPU_mem   box_loss   cls_loss   dfl_loss  Instances       Size\n"
          ]
        },
        {
          "output_type": "stream",
          "name": "stderr",
          "text": [
            "       6/15      1.47G     0.6709     0.4841     0.8918          8        640: 100%|██████████| 39/39 [00:08<00:00,  4.38it/s]\n",
            "                 Class     Images  Instances      Box(P          R      mAP50  mAP50-95): 100%|██████████| 4/4 [00:00<00:00,  6.32it/s]"
          ]
        },
        {
          "output_type": "stream",
          "name": "stdout",
          "text": [
            "                   all         52         52      0.978          1      0.994       0.87\n"
          ]
        },
        {
          "output_type": "stream",
          "name": "stderr",
          "text": [
            "\n"
          ]
        },
        {
          "output_type": "stream",
          "name": "stdout",
          "text": [
            "\n",
            "      Epoch    GPU_mem   box_loss   cls_loss   dfl_loss  Instances       Size\n"
          ]
        },
        {
          "output_type": "stream",
          "name": "stderr",
          "text": [
            "       7/15      1.49G     0.6422     0.4523       0.87          7        640: 100%|██████████| 39/39 [00:06<00:00,  6.45it/s]\n",
            "                 Class     Images  Instances      Box(P          R      mAP50  mAP50-95): 100%|██████████| 4/4 [00:00<00:00,  8.07it/s]"
          ]
        },
        {
          "output_type": "stream",
          "name": "stdout",
          "text": [
            "                   all         52         52      0.997          1      0.995      0.873\n"
          ]
        },
        {
          "output_type": "stream",
          "name": "stderr",
          "text": [
            "\n"
          ]
        },
        {
          "output_type": "stream",
          "name": "stdout",
          "text": [
            "\u001b[34m\u001b[1mEarlyStopping: \u001b[0mTraining stopped early as no improvement observed in last 5 epochs. Best results observed at epoch 2, best model saved as best.pt.\n",
            "To update EarlyStopping(patience=5) pass a new patience value, i.e. `patience=300` or use `patience=0` to disable EarlyStopping.\n",
            "\n",
            "7 epochs completed in 0.017 hours.\n",
            "Optimizer stripped from /content/drive/MyDrive/CAPSTONE/runs_speedlimits/stage3_advtrain/weights/last.pt, 6.2MB\n",
            "Optimizer stripped from /content/drive/MyDrive/CAPSTONE/runs_speedlimits/stage3_advtrain/weights/best.pt, 6.2MB\n",
            "\n",
            "Validating /content/drive/MyDrive/CAPSTONE/runs_speedlimits/stage3_advtrain/weights/best.pt...\n",
            "Ultralytics 8.3.179 🚀 Python-3.11.13 torch-2.6.0+cu124 CUDA:0 (Tesla T4, 15095MiB)\n",
            "Model summary (fused): 72 layers, 3,005,843 parameters, 0 gradients, 8.1 GFLOPs\n"
          ]
        },
        {
          "output_type": "stream",
          "name": "stderr",
          "text": [
            "                 Class     Images  Instances      Box(P          R      mAP50  mAP50-95): 100%|██████████| 4/4 [00:01<00:00,  2.47it/s]\n"
          ]
        },
        {
          "output_type": "stream",
          "name": "stdout",
          "text": [
            "                   all         52         52      0.999          1      0.995      0.875\n",
            "Speed: 0.4ms preprocess, 6.0ms inference, 0.0ms loss, 7.9ms postprocess per image\n",
            "Results saved to \u001b[1m/content/drive/MyDrive/CAPSTONE/runs_speedlimits/stage3_advtrain\u001b[0m\n",
            "Stage-3 best weights: /content/drive/MyDrive/CAPSTONE/runs_speedlimits/stage3_advtrain/weights/best.pt\n"
          ]
        }
      ]
    },
    {
      "cell_type": "code",
      "source": [
        "# eval helpers\n",
        "import cv2, numpy as np, torch\n",
        "from ultralytics import YOLO\n",
        "\n",
        "def jpeg_compress(img_bgr, quality=75):\n",
        "    ok, enc = cv2.imencode(\".jpg\", img_bgr, [int(cv2.IMWRITE_JPEG_QUALITY), int(quality)])\n",
        "    if not ok: return img_bgr\n",
        "    return cv2.imdecode(enc, cv2.IMREAD_COLOR)\n",
        "\n",
        "def bilateral(img_bgr, d=9, sigmaColor=75, sigmaSpace=75):\n",
        "    return cv2.bilateralFilter(img_bgr, d, sigmaColor, sigmaSpace)\n",
        "\n",
        "def predict_conf(weights, img_path, imgsz=896, conf=0.25, iou=0.5):\n",
        "    m = YOLO(weights)\n",
        "    r = m.predict(source=img_path, imgsz=imgsz, conf=conf, iou=iou, verbose=False)\n",
        "    if not r: return None\n",
        "    boxes = r[0].boxes\n",
        "    if boxes is None or boxes.conf is None or len(boxes.conf)==0:\n",
        "        return None\n",
        "    return float(boxes.conf.max().item())\n",
        "\n",
        "def pgd_attack_predbox(img_bgr, weights, imgsz_train=640, eps=8/255, alpha=2/255, steps=10, pad_px=12):\n",
        "    # Attack around predicted bbox (since test has no labels)\n",
        "    raw = YOLO(weights).model.eval()\n",
        "    device = next(raw.parameters()).device\n",
        "    im0_rgb = img_bgr[:,:,::-1]\n",
        "    H0,W0 = im0_rgb.shape[:2]\n",
        "\n",
        "    pred = YOLO(weights)(im0_rgb, imgsz=imgsz_train, conf=0.1, verbose=False)[0]\n",
        "    if pred.boxes is not None and len(pred.boxes.xyxy)>0:\n",
        "        x1,y1,x2,y2 = pred.boxes.xyxy[0].detach().cpu().numpy().tolist()\n",
        "    else:\n",
        "        x1,y1,x2,y2 = 0,0,W0,H0\n",
        "\n",
        "    # letterbox\n",
        "    def _letterbox(im, new_shape=imgsz_train, color=(114,114,114)):\n",
        "        h, w = im.shape[:2]\n",
        "        r = min(new_shape / h, new_shape / w)\n",
        "        nh, nw = int(round(h * r)), int(round(w * r))\n",
        "        im_resized = cv2.resize(im, (nw, nh), interpolation=cv2.INTER_LINEAR)\n",
        "        top = (new_shape - nh) // 2\n",
        "        bottom = new_shape - nh - top\n",
        "        left = (new_shape - nw) // 2\n",
        "        right = new_shape - nw - left\n",
        "        im_padded = cv2.copyMakeBorder(im_resized, top, bottom, left, right, cv2.BORDER_CONSTANT, value=color)\n",
        "        return im_padded, r, (left, top), (nh, nw)\n",
        "\n",
        "    def _mask_from_xyxy(x1,y1,x2,y2, H, W, pad=0):\n",
        "        x1 = max(0, int(np.floor(x1 - pad)))\n",
        "        y1 = max(0, int(np.floor(y1 - pad)))\n",
        "        x2 = min(W, int(np.ceil (x2 + pad)))\n",
        "        y2 = min(H, int(np.ceil (y2 + pad)))\n",
        "        m = np.zeros((H,W,1), np.float32)\n",
        "        m[y1:y2, x1:x2, 0] = 1.0\n",
        "        return m\n",
        "\n",
        "    im_sq, r, (px,py), (nh,nw) = _letterbox(im0_rgb, imgsz_train)\n",
        "    H=W=imgsz_train\n",
        "    x1l = x1*r+px; y1l=y1*r+py; x2l=x2*r+px; y2l=y2*r+py\n",
        "    mask_sq = _mask_from_xyxy(x1l,y1l,x2l,y2l,H,W,pad=pad_px)\n",
        "\n",
        "    img_sq = im_sq.astype(np.float32)/255.0\n",
        "    img_t  = torch.from_numpy(img_sq).permute(2,0,1).unsqueeze(0).to(device)\n",
        "    mask_t = torch.from_numpy(mask_sq).permute(2,0,1).unsqueeze(0).to(device)\n",
        "    img_t  = img_t.clamp(0,1).detach()\n",
        "\n",
        "    adv = (img_t + (torch.empty_like(img_t).uniform_(-eps,eps))*mask_t).clamp(0,1).detach()\n",
        "    adv.requires_grad_(True)\n",
        "\n",
        "    for _ in range(steps):\n",
        "        raw.zero_grad(set_to_none=True)\n",
        "        adv.retain_grad()\n",
        "        out = raw(adv, augment=False)[0]\n",
        "\n",
        "        # collapse to scalar proxy\n",
        "        def collect(x):\n",
        "            if torch.is_tensor(x): return [x]\n",
        "            out2=[];\n",
        "            try:\n",
        "                for it in x: out2.extend(collect(it))\n",
        "            except Exception:\n",
        "                pass\n",
        "            return out2\n",
        "        parts = collect(out)\n",
        "        scalars=[]\n",
        "        for t in parts:\n",
        "            if t.dim()==5:\n",
        "                B,A,HH,WW,C=t.shape; T=t.permute(0,2,3,1,4).view(B,HH*WW*A,C)\n",
        "            elif t.dim()==4:\n",
        "                B,C,HH,WW=t.shape; T=t.permute(0,2,3,1).view(B,HH*WW,C)\n",
        "            elif t.dim()==3:\n",
        "                T=t\n",
        "            else:\n",
        "                T=t.view(t.shape[0], -1, t.shape[-1])\n",
        "            Cc=T.shape[-1]\n",
        "            if Cc>=5:\n",
        "                obj=torch.sigmoid(T[...,4])\n",
        "                cls=torch.sigmoid(T[...,5:]).max(dim=-1).values if Cc>5 else torch.ones_like(obj)\n",
        "                scalars.append((obj*cls).mean())\n",
        "        if not scalars: break\n",
        "        proxy=(sum(scalars)/len(scalars))\n",
        "        proxy.backward()\n",
        "        grad_sign = adv.grad.sign()\n",
        "        adv = (adv - (alpha*grad_sign)*mask_t).clamp(0,1).detach()\n",
        "        delta = (adv - img_t).clamp(-eps, eps)*mask_t\n",
        "        adv = (img_t + delta).clamp(0,1).detach()\n",
        "        adv.requires_grad_(True)\n",
        "\n",
        "    adv_sq = adv.detach().cpu().numpy()[0].transpose(1,2,0)\n",
        "    delta_sq = adv_sq - img_sq\n",
        "    delta_crop = delta_sq[py:py+nh, px:px+nw, :]\n",
        "    delta_orig = cv2.resize(delta_crop, (W0, H0), interpolation=cv2.INTER_LINEAR)\n",
        "    adv_orig = (im0_rgb.astype(np.float32)/255.0 + delta_orig).clip(0,1)\n",
        "    adv_bgr  = (adv_orig[:,:,::-1]*255.0).astype(np.uint8)\n",
        "    return adv_bgr\n"
      ],
      "metadata": {
        "id": "adSq_FZYwDr1"
      },
      "id": "adSq_FZYwDr1",
      "execution_count": null,
      "outputs": []
    },
    {
      "cell_type": "code",
      "source": [
        "#  prepare eval images\n",
        "import os, glob, shutil, cv2\n",
        "\n",
        "EVAL_DIR = f\"{DRIVE_ROOT}/eval_at_only\"\n",
        "os.makedirs(EVAL_DIR, exist_ok=True)\n",
        "\n",
        "clean_dir = os.path.join(EVAL_DIR, \"clean\")\n",
        "pgd_dir   = os.path.join(EVAL_DIR, \"pgd\")\n",
        "jpeg_dir  = os.path.join(EVAL_DIR, \"pgd_jpeg\")\n",
        "bil_dir   = os.path.join(EVAL_DIR, \"pgd_bilateral\")\n",
        "for d in [clean_dir, pgd_dir, jpeg_dir, bil_dir]:\n",
        "    os.makedirs(d, exist_ok=True)\n",
        "\n",
        "# copy clean test images\n",
        "for p in glob.glob(os.path.join(TEST_IMAGES, \"*\")):\n",
        "    if os.path.isdir(p): continue\n",
        "    shutil.copy2(p, os.path.join(clean_dir, os.path.basename(p)))\n",
        "\n",
        "# craft PGD using STAGE2_WEIGHTS (stronger test), then defenses\n",
        "for p in sorted(glob.glob(os.path.join(clean_dir, \"*\"))):\n",
        "    img = cv2.imread(p)\n",
        "    if img is None: continue\n",
        "    adv = pgd_attack_predbox(img, STAGE2_WEIGHTS, imgsz_train=IMGSZ_TRAIN, eps=EPS, alpha=ALPHA, steps=STEPS, pad_px=PAD_PX)\n",
        "    base = os.path.basename(p)\n",
        "    cv2.imwrite(os.path.join(pgd_dir, base), adv)\n",
        "    cv2.imwrite(os.path.join(jpeg_dir, base), jpeg_compress(adv, quality=75))\n",
        "    cv2.imwrite(os.path.join(bil_dir,  base), bilateral(adv))\n",
        "print(\"Eval images prepared:\", clean_dir, pgd_dir, jpeg_dir, bil_dir)\n"
      ],
      "metadata": {
        "colab": {
          "base_uri": "https://localhost:8080/"
        },
        "id": "wkKtgD05wz3p",
        "outputId": "9e66c448-687b-4881-b24c-d728aa3e1481"
      },
      "id": "wkKtgD05wz3p",
      "execution_count": null,
      "outputs": [
        {
          "output_type": "stream",
          "name": "stdout",
          "text": [
            "Eval images prepared: /content/drive/MyDrive/CAPSTONE/eval_at_only/clean /content/drive/MyDrive/CAPSTONE/eval_at_only/pgd /content/drive/MyDrive/CAPSTONE/eval_at_only/pgd_jpeg /content/drive/MyDrive/CAPSTONE/eval_at_only/pgd_bilateral\n"
          ]
        }
      ]
    },
    {
      "cell_type": "code",
      "source": [
        "#  summarize confidences and simple detection rates\n",
        "import os, glob, csv\n",
        "from ultralytics import YOLO\n",
        "\n",
        "def summarize(dir_path, weights, tag, out_csv):\n",
        "    rows = [[\"image\",\"model\",\"score\"]]\n",
        "    ims = sorted(glob.glob(os.path.join(dir_path, \"*\")))\n",
        "    m = YOLO(weights)\n",
        "    det_count = 0\n",
        "    scores = []\n",
        "    for p in ims:\n",
        "        r = m.predict(source=p, imgsz=IMGSZ_INFER, conf=0.25, iou=0.5, verbose=False)\n",
        "        score = None\n",
        "        if r and r[0].boxes is not None and r[0].boxes.conf is not None and len(r[0].boxes.conf)>0:\n",
        "            score = float(r[0].boxes.conf.max().item())\n",
        "            det_count += 1\n",
        "            scores.append(score)\n",
        "        rows.append([os.path.basename(p), tag, score])\n",
        "    os.makedirs(os.path.dirname(out_csv), exist_ok=True)\n",
        "    with open(out_csv, \"w\", newline=\"\") as f:\n",
        "        csv.writer(f).writerows(rows)\n",
        "    avg = float(np.mean(scores)) if scores else None\n",
        "    total = len([p for p in ims if not os.path.isdir(p)])\n",
        "    print(f\"{tag} on {os.path.basename(dir_path)} — det_rate={det_count}/{total}, avg_conf={avg}\")\n",
        "    return det_count, total, avg\n",
        "\n",
        "summ_dir = os.path.join(EVAL_DIR, \"summaries\")\n",
        "os.makedirs(summ_dir, exist_ok=True)\n",
        "\n",
        "print(\"== CLEAN ==\")\n",
        "summarize(clean_dir, STAGE2_WEIGHTS, \"stage2\", os.path.join(summ_dir, \"clean_stage2.csv\"))\n",
        "summarize(clean_dir, STAGE3_WEIGHTS, \"stage3\", os.path.join(summ_dir, \"clean_stage3.csv\"))\n",
        "\n",
        "print(\"\\n== PGD ==\")\n",
        "summarize(pgd_dir,  STAGE2_WEIGHTS, \"stage2\", os.path.join(summ_dir, \"pgd_stage2.csv\"))\n",
        "summarize(pgd_dir,  STAGE3_WEIGHTS, \"stage3\", os.path.join(summ_dir, \"pgd_stage3.csv\"))\n",
        "\n",
        "print(\"\\n== PGD + JPEG ==\")\n",
        "summarize(jpeg_dir, STAGE2_WEIGHTS, \"stage2\", os.path.join(summ_dir, \"pgd_jpeg_stage2.csv\"))\n",
        "summarize(jpeg_dir, STAGE3_WEIGHTS, \"stage3\", os.path.join(summ_dir, \"pgd_jpeg_stage3.csv\"))\n",
        "\n",
        "print(\"\\n== PGD + Bilateral ==\")\n",
        "summarize(bil_dir,  STAGE2_WEIGHTS, \"stage2\", os.path.join(summ_dir, \"pgd_bilateral_stage2.csv\"))\n",
        "summarize(bil_dir,  STAGE3_WEIGHTS, \"stage3\", os.path.join(summ_dir, \"pgd_bilateral_stage3.csv\"))\n",
        "\n",
        "print(\"\\nCSV summaries saved to:\", summ_dir)\n"
      ],
      "metadata": {
        "colab": {
          "base_uri": "https://localhost:8080/"
        },
        "id": "sPO_t1G3xUGm",
        "outputId": "fe5e0331-73e8-4178-b32c-a269c1b2bb3e"
      },
      "id": "sPO_t1G3xUGm",
      "execution_count": null,
      "outputs": [
        {
          "output_type": "stream",
          "name": "stdout",
          "text": [
            "== CLEAN ==\n",
            "stage2 on clean — det_rate=20/20, avg_conf=0.8382613360881805\n",
            "stage3 on clean — det_rate=20/20, avg_conf=0.8152572095394135\n",
            "\n",
            "== PGD ==\n",
            "stage2 on pgd — det_rate=19/20, avg_conf=0.7614401218138243\n",
            "stage3 on pgd — det_rate=20/20, avg_conf=0.7433789223432541\n",
            "\n",
            "== PGD + JPEG ==\n",
            "stage2 on pgd_jpeg — det_rate=20/20, avg_conf=0.7371355816721916\n",
            "stage3 on pgd_jpeg — det_rate=20/20, avg_conf=0.747087861597538\n",
            "\n",
            "== PGD + Bilateral ==\n",
            "stage2 on pgd_bilateral — det_rate=19/20, avg_conf=0.8012332979001497\n",
            "stage3 on pgd_bilateral — det_rate=19/20, avg_conf=0.7664054255736502\n",
            "\n",
            "CSV summaries saved to: /content/drive/MyDrive/CAPSTONE/eval_at_only/summaries\n"
          ]
        }
      ]
    },
    {
      "cell_type": "code",
      "source": [
        "#  craft PGD with Stage-3 weights and evaluate Stage-2 vs Stage-3\n",
        "import os, glob, csv, cv2, numpy as np\n",
        "from ultralytics import YOLO\n",
        "\n",
        "pgd3_dir = os.path.join(EVAL_DIR, \"pgd_from_stage3\")\n",
        "os.makedirs(pgd3_dir, exist_ok=True)\n",
        "\n",
        "# Reuse pgd_attack_predbox from earlier but call with STAGE3_WEIGHTS\n",
        "for p in sorted(glob.glob(os.path.join(clean_dir, \"*\"))):\n",
        "    img = cv2.imread(p)\n",
        "    if img is None: continue\n",
        "    adv = pgd_attack_predbox(img, STAGE3_WEIGHTS, imgsz_train=IMGSZ_TRAIN, eps=EPS, alpha=ALPHA, steps=STEPS, pad_px=PAD_PX)\n",
        "    cv2.imwrite(os.path.join(pgd3_dir, os.path.basename(p)), adv)\n",
        "\n",
        "def summarize(dir_path, weights, tag, out_csv):\n",
        "    rows = [[\"image\",\"model\",\"score\"]]\n",
        "    ims = sorted(glob.glob(os.path.join(dir_path, \"*\")))\n",
        "    m = YOLO(weights)\n",
        "    det_count, scores = 0, []\n",
        "    for p in ims:\n",
        "        r = m.predict(source=p, imgsz=IMGSZ_INFER, conf=0.25, iou=0.5, verbose=False)\n",
        "        score = None\n",
        "        if r and r[0].boxes is not None and r[0].boxes.conf is not None and len(r[0].boxes.conf)>0:\n",
        "            score = float(r[0].boxes.conf.max().item())\n",
        "            det_count += 1\n",
        "            scores.append(score)\n",
        "        rows.append([os.path.basename(p), tag, score])\n",
        "    os.makedirs(os.path.dirname(out_csv), exist_ok=True)\n",
        "    with open(out_csv, \"w\", newline=\"\") as f:\n",
        "        csv.writer(f).writerows(rows)\n",
        "    avg = float(np.mean(scores)) if scores else None\n",
        "    total = len([p for p in ims if not os.path.isdir(p)])\n",
        "    print(f\"{tag} on pgd_from_stage3 — det_rate={det_count}/{total}, avg_conf={avg}\")\n",
        "    return det_count, total, avg\n",
        "\n",
        "summ_dir = os.path.join(EVAL_DIR, \"summaries\")\n",
        "os.makedirs(summ_dir, exist_ok=True)\n",
        "\n",
        "print(\"== PGD crafted on STAGE-3 (white-box for Stage-3) ==\")\n",
        "summarize(pgd3_dir, STAGE2_WEIGHTS, \"stage2\", os.path.join(summ_dir, \"pgd_from_stage3_stage2.csv\"))\n",
        "summarize(pgd3_dir, STAGE3_WEIGHTS, \"stage3\", os.path.join(summ_dir, \"pgd_from_stage3_stage3.csv\"))\n"
      ],
      "metadata": {
        "colab": {
          "base_uri": "https://localhost:8080/"
        },
        "id": "21JP0tazxgu_",
        "outputId": "e59a4390-5d9c-4bce-c893-23a56060b573"
      },
      "id": "21JP0tazxgu_",
      "execution_count": null,
      "outputs": [
        {
          "output_type": "stream",
          "name": "stdout",
          "text": [
            "== PGD crafted on STAGE-3 (white-box for Stage-3) ==\n",
            "stage2 on pgd_from_stage3 — det_rate=20/20, avg_conf=0.7538540914654732\n",
            "stage3 on pgd_from_stage3 — det_rate=19/20, avg_conf=0.7592366212292722\n"
          ]
        },
        {
          "output_type": "execute_result",
          "data": {
            "text/plain": [
              "(19, 20, 0.7592366212292722)"
            ]
          },
          "metadata": {},
          "execution_count": 13
        }
      ]
    },
    {
      "cell_type": "code",
      "source": [
        "# epsilon sweep: craft with each model (white-box) at multiple eps, report avg conf\n",
        "import csv, cv2, numpy as np, glob, os\n",
        "from ultralytics import YOLO\n",
        "\n",
        "EPS_LIST = [2/255, 4/255, 8/255, 12/255]\n",
        "SWEEP_CSV = os.path.join(EVAL_DIR, \"summaries\", \"eps_sweep_whitebox.csv\")\n",
        "\n",
        "def avg_conf_under_eps(weights, eps):\n",
        "    ims = sorted(glob.glob(os.path.join(clean_dir, \"*\")))\n",
        "    scores = []\n",
        "    for p in ims:\n",
        "        img = cv2.imread(p)\n",
        "        if img is None: continue\n",
        "        adv = pgd_attack_predbox(img, weights, imgsz_train=IMGSZ_TRAIN, eps=eps, alpha=max(eps/4, 1/255), steps=10, pad_px=PAD_PX)\n",
        "        r = YOLO(weights).predict(source=adv, imgsz=IMGSZ_INFER, conf=0.25, iou=0.5, verbose=False)\n",
        "        if r and r[0].boxes is not None and r[0].boxes.conf is not None and len(r[0].boxes.conf)>0:\n",
        "            scores.append(float(r[0].boxes.conf.max().item()))\n",
        "    return float(np.mean(scores)) if scores else None\n",
        "\n",
        "rows = [[\"epsilon\",\"model\",\"avg_conf_whitebox\"]]\n",
        "for eps in EPS_LIST:\n",
        "    for weights, tag in [(STAGE2_WEIGHTS,\"stage2\"), (STAGE3_WEIGHTS,\"stage3\")]:\n",
        "        avgc = avg_conf_under_eps(weights, eps)\n",
        "        rows.append([float(eps), tag, avgc])\n",
        "        print(f\"eps={eps:.5f} {tag}: avg_conf={avgc}\")\n",
        "\n",
        "os.makedirs(os.path.dirname(SWEEP_CSV), exist_ok=True)\n",
        "with open(SWEEP_CSV, \"w\", newline=\"\") as f:\n",
        "    csv.writer(f).writerows(rows)\n",
        "\n",
        "print(\"Saved sweep CSV to:\", SWEEP_CSV)\n"
      ],
      "metadata": {
        "colab": {
          "base_uri": "https://localhost:8080/"
        },
        "id": "aBIATDXExz1y",
        "outputId": "484dc9b7-c859-4a95-d0dd-a322cfdacf3f"
      },
      "id": "aBIATDXExz1y",
      "execution_count": null,
      "outputs": [
        {
          "output_type": "stream",
          "name": "stdout",
          "text": [
            "eps=0.00784 stage2: avg_conf=0.8186317980289459\n",
            "eps=0.00784 stage3: avg_conf=0.7917907297611236\n",
            "eps=0.01569 stage2: avg_conf=0.7992060989141464\n",
            "eps=0.01569 stage3: avg_conf=0.7681701138615609\n",
            "eps=0.03137 stage2: avg_conf=0.7428529486060143\n",
            "eps=0.03137 stage3: avg_conf=0.7662421935483029\n",
            "eps=0.04706 stage2: avg_conf=0.7291736712581233\n",
            "eps=0.04706 stage3: avg_conf=0.7471921899739433\n",
            "Saved sweep CSV to: /content/drive/MyDrive/CAPSTONE/eval_at_only/summaries/eps_sweep_whitebox.csv\n"
          ]
        }
      ]
    },
    {
      "cell_type": "code",
      "source": [
        "# Plot Stage-2 vs Stage-3 average confidence vs epsilon (white-box per model)\n",
        "import matplotlib.pyplot as plt\n",
        "\n",
        "eps = [0.00784, 0.01569, 0.03137, 0.04706]  # 2/255, 4/255, 8/255, 12/255\n",
        "stage2 = [0.8186317980289459, 0.7992060989141464, 0.7428529486060143, 0.7291736712581233]\n",
        "stage3 = [0.7917907297611236, 0.7681701138615609, 0.7662421935483029, 0.7471921899739433]\n",
        "\n",
        "plt.figure(figsize=(6,4))\n",
        "plt.plot(eps, stage2, marker='o', label='Stage-2 (clean model)')\n",
        "plt.plot(eps, stage3, marker='o', label='Stage-3 (AT model)')\n",
        "plt.xlabel('epsilon (L_inf)')\n",
        "plt.ylabel('avg top-1 confidence')\n",
        "plt.title('Robustness curve (white-box per model)')\n",
        "plt.legend()\n",
        "plt.grid(True)\n",
        "plt.show()\n"
      ],
      "metadata": {
        "colab": {
          "base_uri": "https://localhost:8080/",
          "height": 410
        },
        "id": "9r7xSFBy3FXw",
        "outputId": "7c242893-22bf-447e-f3cb-1c0198ed45a8"
      },
      "id": "9r7xSFBy3FXw",
      "execution_count": null,
      "outputs": [
        {
          "output_type": "display_data",
          "data": {
            "text/plain": [
              "<Figure size 600x400 with 1 Axes>"
            ],
            "image/png": "[encoded data removed]"
          },
          "metadata": {}
        }
      ]
    },
    {
      "cell_type": "code",
      "source": [
        "# JPEG quality ablation\n",
        "import csv, cv2, glob, os, numpy as np\n",
        "from ultralytics import YOLO\n",
        "\n",
        "QUALS = [95, 85, 75, 60, 50, 40]\n",
        "ABLATE_CSV = os.path.join(EVAL_DIR, \"summaries\", \"jpeg_ablation.csv\")\n",
        "\n",
        "def avg_conf_after_jpeg(dir_path, weights, q):\n",
        "    ims = sorted(glob.glob(os.path.join(dir_path, \"*\")))\n",
        "    scores = []\n",
        "    for p in ims:\n",
        "        img = cv2.imread(p)\n",
        "        if img is None: continue\n",
        "        ok, enc = cv2.imencode(\".jpg\", img, [int(cv2.IMWRITE_JPEG_QUALITY), int(q)])\n",
        "        comp = cv2.imdecode(enc, cv2.IMREAD_COLOR) if ok else img\n",
        "        r = YOLO(weights).predict(source=comp, imgsz=IMGSZ_INFER, conf=0.25, iou=0.5, verbose=False)\n",
        "        if r and r[0].boxes is not None and r[0].boxes.conf is not None and len(r[0].boxes.conf)>0:\n",
        "            scores.append(float(r[0].boxes.conf.max().item()))\n",
        "    return float(np.mean(scores)) if scores else None\n",
        "\n",
        "rows = [[\"jpeg_quality\",\"model\",\"avg_conf_on_pgd\"]]\n",
        "for q in QUALS:\n",
        "    for weights, tag in [(STAGE2_WEIGHTS,\"stage2\"), (STAGE3_WEIGHTS,\"stage3\")]:\n",
        "        avgc = avg_conf_after_jpeg(pgd_dir, weights, q)\n",
        "        rows.append([q, tag, avgc])\n",
        "        print(f\"JPEG q={q} {tag}: avg_conf={avgc}\")\n",
        "\n",
        "os.makedirs(os.path.dirname(ABLATE_CSV), exist_ok=True)\n",
        "with open(ABLATE_CSV, \"w\", newline=\"\") as f:\n",
        "    csv.writer(f).writerows(rows)\n",
        "\n",
        "print(\"Saved ablation CSV to:\", ABLATE_CSV)\n"
      ],
      "metadata": {
        "colab": {
          "base_uri": "https://localhost:8080/"
        },
        "id": "3MbavTtJygky",
        "outputId": "7012af67-97ee-4bf5-b274-6930f73a1ff6"
      },
      "id": "3MbavTtJygky",
      "execution_count": null,
      "outputs": [
        {
          "output_type": "stream",
          "name": "stdout",
          "text": [
            "JPEG q=95 stage2: avg_conf=0.7620076646930293\n",
            "JPEG q=95 stage3: avg_conf=0.7454981446266175\n",
            "JPEG q=85 stage2: avg_conf=0.7456250861287117\n",
            "JPEG q=85 stage3: avg_conf=0.7484832376241684\n",
            "JPEG q=75 stage2: avg_conf=0.7410919338464736\n",
            "JPEG q=75 stage3: avg_conf=0.7487228989601136\n",
            "JPEG q=60 stage2: avg_conf=0.7654612472182826\n",
            "JPEG q=60 stage3: avg_conf=0.7461052238941193\n",
            "JPEG q=50 stage2: avg_conf=0.7662502715462133\n",
            "JPEG q=50 stage3: avg_conf=0.7367408126592636\n",
            "JPEG q=40 stage2: avg_conf=0.7889694634236788\n",
            "JPEG q=40 stage3: avg_conf=0.7562580585479737\n",
            "Saved ablation CSV to: /content/drive/MyDrive/CAPSTONE/eval_at_only/summaries/jpeg_ablation.csv\n"
          ]
        }
      ]
    },
    {
      "cell_type": "code",
      "source": [
        "# add JPEG-augmented copies to your AT train set, then quick 5-epoch fine-tune\n",
        "import os, glob, cv2, random, shutil\n",
        "from ultralytics import YOLO\n",
        "\n",
        "SRC_IMG = f\"{DRIVE_ROOT}/data_stage2_adv/train/images\"   # mixed clean+adv you built\n",
        "SRC_LBL = f\"{DRIVE_ROOT}/data_stage2_adv/train/labels\"\n",
        "QUALS = [70, 75, 80, 85]\n",
        "FRACTION = 0.3\n",
        "\n",
        "imgs = sorted(glob.glob(os.path.join(SRC_IMG, \"*\")))\n",
        "choices = imgs[::max(1, int(1/(FRACTION+1e-9)))]\n",
        "print(f\"JPEG-augmenting ~{len(choices)} / {len(imgs)} images\")\n",
        "\n",
        "def save_jpeg_copy(src_img_path, q):\n",
        "    import os\n",
        "    base = os.path.basename(src_img_path)\n",
        "    stem, ext = os.path.splitext(base)\n",
        "    dst_img = os.path.join(SRC_IMG, f\"{stem}_jq{q}{ext}\")\n",
        "    im = cv2.imread(src_img_path)\n",
        "    if im is None: return\n",
        "    ok, enc = cv2.imencode(\".jpg\", im, [int(cv2.IMWRITE_JPEG_QUALITY), int(q)])\n",
        "    if not ok: return\n",
        "    comp = cv2.imdecode(enc, cv2.IMREAD_COLOR)\n",
        "    cv2.imwrite(dst_img, comp)\n",
        "    # duplicate the label\n",
        "    lbl_src = os.path.join(SRC_LBL, stem + \".txt\")\n",
        "    if os.path.exists(lbl_src):\n",
        "        shutil.copy2(lbl_src, os.path.join(SRC_LBL, f\"{stem}_jq{q}.txt\"))\n",
        "\n",
        "for p in choices:\n",
        "    q = random.choice(QUALS)\n",
        "    save_jpeg_copy(p, q)\n",
        "\n",
        "# quick fine-tune on the same YAML for a few epochs\n",
        "print(\"Quick JPEG-aware fine-tune…\")\n",
        "model = YOLO(STAGE3_WEIGHTS)  # start from your AT weights\n",
        "r = model.train(\n",
        "    data=STAGE3_YAML,          # same mixed (now with _jq* files)\n",
        "    epochs=5,                  # short top-up\n",
        "    imgsz=IMGSZ_TRAIN,\n",
        "    batch=max(4, BATCH_S3//2),\n",
        "    lr0=LR0_S3 * 0.5,          # smaller LR\n",
        "    cos_lr=True,\n",
        "    weight_decay=0.0005,\n",
        "    patience=3,\n",
        "    device=0 if torch.cuda.is_available() else None,\n",
        "    project=PROJECT,\n",
        "    name=\"stage3_advtrain_jpegaware\",\n",
        ")\n",
        "STAGE3J_WEIGHTS = f\"{PROJECT}/stage3_advtrain_jpegaware/weights/best.pt\"\n",
        "print(\"JPEG-aware AT weights:\", STAGE3J_WEIGHTS)\n"
      ],
      "metadata": {
        "colab": {
          "base_uri": "https://localhost:8080/"
        },
        "id": "fHv-VKHy27As",
        "outputId": "265e9911-ff8e-48af-95ea-6f0e2282e7c7"
      },
      "id": "fHv-VKHy27As",
      "execution_count": null,
      "outputs": [
        {
          "output_type": "stream",
          "name": "stdout",
          "text": [
            "JPEG-augmenting ~104 / 311 images\n",
            "Quick JPEG-aware fine-tune…\n",
            "Ultralytics 8.3.179 🚀 Python-3.11.13 torch-2.6.0+cu124 CUDA:0 (Tesla T4, 15095MiB)\n",
            "\u001b[34m\u001b[1mengine/trainer: \u001b[0magnostic_nms=False, amp=True, augment=False, auto_augment=randaugment, batch=4, bgr=0.0, box=7.5, cache=False, cfg=None, classes=None, close_mosaic=10, cls=0.5, conf=None, copy_paste=0.0, copy_paste_mode=flip, cos_lr=True, cutmix=0.0, data=/content/speedlimits_stage3.yaml, degrees=0.0, deterministic=True, device=0, dfl=1.5, dnn=False, dropout=0.0, dynamic=False, embed=None, epochs=5, erasing=0.4, exist_ok=False, fliplr=0.5, flipud=0.0, format=torchscript, fraction=1.0, freeze=None, half=False, hsv_h=0.015, hsv_s=0.7, hsv_v=0.4, imgsz=640, int8=False, iou=0.7, keras=False, kobj=1.0, line_width=None, lr0=0.00075, lrf=0.01, mask_ratio=4, max_det=300, mixup=0.0, mode=train, model=/content/drive/MyDrive/CAPSTONE/runs_speedlimits/stage3_advtrain/weights/best.pt, momentum=0.937, mosaic=1.0, multi_scale=False, name=stage3_advtrain_jpegaware, nbs=64, nms=False, opset=None, optimize=False, optimizer=auto, overlap_mask=True, patience=3, perspective=0.0, plots=True, pose=12.0, pretrained=True, profile=False, project=/content/drive/MyDrive/CAPSTONE/runs_speedlimits, rect=False, resume=False, retina_masks=False, save=True, save_conf=False, save_crop=False, save_dir=/content/drive/MyDrive/CAPSTONE/runs_speedlimits/stage3_advtrain_jpegaware, save_frames=False, save_json=False, save_period=-1, save_txt=False, scale=0.5, seed=0, shear=0.0, show=False, show_boxes=True, show_conf=True, show_labels=True, simplify=True, single_cls=False, source=None, split=val, stream_buffer=False, task=detect, time=None, tracker=botsort.yaml, translate=0.1, val=True, verbose=True, vid_stride=1, visualize=False, warmup_bias_lr=0.1, warmup_epochs=3.0, warmup_momentum=0.8, weight_decay=0.0005, workers=8, workspace=None\n",
            "\n",
            "                   from  n    params  module                                       arguments                     \n",
            "  0                  -1  1       464  ultralytics.nn.modules.conv.Conv             [3, 16, 3, 2]                 \n",
            "  1                  -1  1      4672  ultralytics.nn.modules.conv.Conv             [16, 32, 3, 2]                \n",
            "  2                  -1  1      7360  ultralytics.nn.modules.block.C2f             [32, 32, 1, True]             \n",
            "  3                  -1  1     18560  ultralytics.nn.modules.conv.Conv             [32, 64, 3, 2]                \n",
            "  4                  -1  2     49664  ultralytics.nn.modules.block.C2f             [64, 64, 2, True]             \n",
            "  5                  -1  1     73984  ultralytics.nn.modules.conv.Conv             [64, 128, 3, 2]               \n",
            "  6                  -1  2    197632  ultralytics.nn.modules.block.C2f             [128, 128, 2, True]           \n",
            "  7                  -1  1    295424  ultralytics.nn.modules.conv.Conv             [128, 256, 3, 2]              \n",
            "  8                  -1  1    460288  ultralytics.nn.modules.block.C2f             [256, 256, 1, True]           \n",
            "  9                  -1  1    164608  ultralytics.nn.modules.block.SPPF            [256, 256, 5]                 \n",
            " 10                  -1  1         0  torch.nn.modules.upsampling.Upsample         [None, 2, 'nearest']          \n",
            " 11             [-1, 6]  1         0  ultralytics.nn.modules.conv.Concat           [1]                           \n",
            " 12                  -1  1    148224  ultralytics.nn.modules.block.C2f             [384, 128, 1]                 \n",
            " 13                  -1  1         0  torch.nn.modules.upsampling.Upsample         [None, 2, 'nearest']          \n",
            " 14             [-1, 4]  1         0  ultralytics.nn.modules.conv.Concat           [1]                           \n",
            " 15                  -1  1     37248  ultralytics.nn.modules.block.C2f             [192, 64, 1]                  \n",
            " 16                  -1  1     36992  ultralytics.nn.modules.conv.Conv             [64, 64, 3, 2]                \n",
            " 17            [-1, 12]  1         0  ultralytics.nn.modules.conv.Concat           [1]                           \n",
            " 18                  -1  1    123648  ultralytics.nn.modules.block.C2f             [192, 128, 1]                 \n",
            " 19                  -1  1    147712  ultralytics.nn.modules.conv.Conv             [128, 128, 3, 2]              \n",
            " 20             [-1, 9]  1         0  ultralytics.nn.modules.conv.Concat           [1]                           \n",
            " 21                  -1  1    493056  ultralytics.nn.modules.block.C2f             [384, 256, 1]                 \n",
            " 22        [15, 18, 21]  1    751507  ultralytics.nn.modules.head.Detect           [1, [64, 128, 256]]           \n",
            "Model summary: 129 layers, 3,011,043 parameters, 3,011,027 gradients, 8.2 GFLOPs\n",
            "\n",
            "Transferred 355/355 items from pretrained weights\n",
            "Freezing layer 'model.22.dfl.conv.weight'\n",
            "\u001b[34m\u001b[1mAMP: \u001b[0mrunning Automatic Mixed Precision (AMP) checks...\n",
            "\u001b[34m\u001b[1mAMP: \u001b[0mchecks passed ✅\n",
            "\u001b[34m\u001b[1mtrain: \u001b[0mFast image access ✅ (ping: 0.4±0.2 ms, read: 20.3±6.1 MB/s, size: 39.7 KB)\n"
          ]
        },
        {
          "output_type": "stream",
          "name": "stderr",
          "text": [
            "\u001b[34m\u001b[1mtrain: \u001b[0mScanning /content/drive/MyDrive/CAPSTONE/data_stage2_adv/train/labels... 415 images, 0 backgrounds, 0 corrupt: 100%|██████████| 415/415 [00:03<00:00, 125.83it/s]\n"
          ]
        },
        {
          "output_type": "stream",
          "name": "stdout",
          "text": [
            "\u001b[34m\u001b[1mtrain: \u001b[0mNew cache created: /content/drive/MyDrive/CAPSTONE/data_stage2_adv/train/labels.cache\n",
            "\u001b[34m\u001b[1malbumentations: \u001b[0mBlur(p=0.01, blur_limit=(3, 7)), MedianBlur(p=0.01, blur_limit=(3, 7)), ToGray(p=0.01, method='weighted_average', num_output_channels=3), CLAHE(p=0.01, clip_limit=(1.0, 4.0), tile_grid_size=(8, 8))\n",
            "\u001b[34m\u001b[1mval: \u001b[0mFast image access ✅ (ping: 0.6±0.2 ms, read: 13.7±8.9 MB/s, size: 36.2 KB)\n"
          ]
        },
        {
          "output_type": "stream",
          "name": "stderr",
          "text": [
            "\u001b[34m\u001b[1mval: \u001b[0mScanning /content/drive/MyDrive/CAPSTONE/data_stage2/valid/labels.cache... 52 images, 0 backgrounds, 0 corrupt: 100%|██████████| 52/52 [00:00<?, ?it/s]\n"
          ]
        },
        {
          "output_type": "stream",
          "name": "stdout",
          "text": [
            "Plotting labels to /content/drive/MyDrive/CAPSTONE/runs_speedlimits/stage3_advtrain_jpegaware/labels.jpg... \n",
            "\u001b[34m\u001b[1moptimizer:\u001b[0m 'optimizer=auto' found, ignoring 'lr0=0.00075' and 'momentum=0.937' and determining best 'optimizer', 'lr0' and 'momentum' automatically... \n",
            "\u001b[34m\u001b[1moptimizer:\u001b[0m AdamW(lr=0.002, momentum=0.9) with parameter groups 57 weight(decay=0.0), 64 weight(decay=0.0005), 63 bias(decay=0.0)\n",
            "Image sizes 640 train, 640 val\n",
            "Using 2 dataloader workers\n",
            "Logging results to \u001b[1m/content/drive/MyDrive/CAPSTONE/runs_speedlimits/stage3_advtrain_jpegaware\u001b[0m\n",
            "Starting training for 5 epochs...\n",
            "\n",
            "      Epoch    GPU_mem   box_loss   cls_loss   dfl_loss  Instances       Size\n"
          ]
        },
        {
          "output_type": "stream",
          "name": "stderr",
          "text": [
            "        1/5      7.15G     0.6992     0.4604      0.885          4        640: 100%|██████████| 104/104 [00:15<00:00,  6.79it/s]\n",
            "                 Class     Images  Instances      Box(P          R      mAP50  mAP50-95): 100%|██████████| 7/7 [00:00<00:00, 10.76it/s]"
          ]
        },
        {
          "output_type": "stream",
          "name": "stdout",
          "text": [
            "                   all         52         52      0.998          1      0.995      0.895\n"
          ]
        },
        {
          "output_type": "stream",
          "name": "stderr",
          "text": [
            "\n"
          ]
        },
        {
          "output_type": "stream",
          "name": "stdout",
          "text": [
            "\n",
            "      Epoch    GPU_mem   box_loss   cls_loss   dfl_loss  Instances       Size\n"
          ]
        },
        {
          "output_type": "stream",
          "name": "stderr",
          "text": [
            "        2/5      7.28G     0.7066     0.4896     0.8918          2        640: 100%|██████████| 104/104 [00:15<00:00,  6.62it/s]\n",
            "                 Class     Images  Instances      Box(P          R      mAP50  mAP50-95): 100%|██████████| 7/7 [00:00<00:00, 12.18it/s]"
          ]
        },
        {
          "output_type": "stream",
          "name": "stdout",
          "text": [
            "                   all         52         52      0.999          1      0.995      0.876\n"
          ]
        },
        {
          "output_type": "stream",
          "name": "stderr",
          "text": [
            "\n"
          ]
        },
        {
          "output_type": "stream",
          "name": "stdout",
          "text": [
            "\n",
            "      Epoch    GPU_mem   box_loss   cls_loss   dfl_loss  Instances       Size\n"
          ]
        },
        {
          "output_type": "stream",
          "name": "stderr",
          "text": [
            "        3/5      7.28G     0.6932     0.4918     0.8918          3        640: 100%|██████████| 104/104 [00:14<00:00,  7.26it/s]\n",
            "                 Class     Images  Instances      Box(P          R      mAP50  mAP50-95): 100%|██████████| 7/7 [00:00<00:00, 12.28it/s]"
          ]
        },
        {
          "output_type": "stream",
          "name": "stdout",
          "text": [
            "                   all         52         52      0.997          1      0.995      0.882\n"
          ]
        },
        {
          "output_type": "stream",
          "name": "stderr",
          "text": [
            "\n"
          ]
        },
        {
          "output_type": "stream",
          "name": "stdout",
          "text": [
            "\n",
            "      Epoch    GPU_mem   box_loss   cls_loss   dfl_loss  Instances       Size\n"
          ]
        },
        {
          "output_type": "stream",
          "name": "stderr",
          "text": [
            "        4/5      7.28G     0.6618      0.457     0.9025          5        640: 100%|██████████| 104/104 [00:14<00:00,  7.34it/s]\n",
            "                 Class     Images  Instances      Box(P          R      mAP50  mAP50-95): 100%|██████████| 7/7 [00:00<00:00,  7.14it/s]"
          ]
        },
        {
          "output_type": "stream",
          "name": "stdout",
          "text": [
            "                   all         52         52      0.998          1      0.995      0.905\n"
          ]
        },
        {
          "output_type": "stream",
          "name": "stderr",
          "text": [
            "\n"
          ]
        },
        {
          "output_type": "stream",
          "name": "stdout",
          "text": [
            "\n",
            "      Epoch    GPU_mem   box_loss   cls_loss   dfl_loss  Instances       Size\n"
          ]
        },
        {
          "output_type": "stream",
          "name": "stderr",
          "text": [
            "        5/5      7.28G     0.6355     0.4229     0.8547          3        640: 100%|██████████| 104/104 [00:14<00:00,  7.00it/s]\n",
            "                 Class     Images  Instances      Box(P          R      mAP50  mAP50-95): 100%|██████████| 7/7 [00:00<00:00,  8.03it/s]"
          ]
        },
        {
          "output_type": "stream",
          "name": "stdout",
          "text": [
            "                   all         52         52      0.998          1      0.995      0.891\n"
          ]
        },
        {
          "output_type": "stream",
          "name": "stderr",
          "text": [
            "\n"
          ]
        },
        {
          "output_type": "stream",
          "name": "stdout",
          "text": [
            "\n",
            "5 epochs completed in 0.022 hours.\n",
            "Optimizer stripped from /content/drive/MyDrive/CAPSTONE/runs_speedlimits/stage3_advtrain_jpegaware/weights/last.pt, 6.2MB\n",
            "Optimizer stripped from /content/drive/MyDrive/CAPSTONE/runs_speedlimits/stage3_advtrain_jpegaware/weights/best.pt, 6.2MB\n",
            "\n",
            "Validating /content/drive/MyDrive/CAPSTONE/runs_speedlimits/stage3_advtrain_jpegaware/weights/best.pt...\n",
            "Ultralytics 8.3.179 🚀 Python-3.11.13 torch-2.6.0+cu124 CUDA:0 (Tesla T4, 15095MiB)\n",
            "Model summary (fused): 72 layers, 3,005,843 parameters, 0 gradients, 8.1 GFLOPs\n"
          ]
        },
        {
          "output_type": "stream",
          "name": "stderr",
          "text": [
            "                 Class     Images  Instances      Box(P          R      mAP50  mAP50-95): 100%|██████████| 7/7 [00:01<00:00,  4.62it/s]\n"
          ]
        },
        {
          "output_type": "stream",
          "name": "stdout",
          "text": [
            "                   all         52         52      0.998          1      0.995      0.905\n",
            "Speed: 0.4ms preprocess, 10.4ms inference, 0.0ms loss, 5.6ms postprocess per image\n",
            "Results saved to \u001b[1m/content/drive/MyDrive/CAPSTONE/runs_speedlimits/stage3_advtrain_jpegaware\u001b[0m\n",
            "JPEG-aware AT weights: /content/drive/MyDrive/CAPSTONE/runs_speedlimits/stage3_advtrain_jpegaware/weights/best.pt\n"
          ]
        }
      ]
    },
    {
      "cell_type": "code",
      "source": [
        "# Compare Stage-2 vs NEW Stage-3 at harsh JPEG qualities 60/50/40 on PGD images\n",
        "import cv2, glob, os, numpy as np\n",
        "from ultralytics import YOLO\n",
        "\n",
        "def avg_conf_after_jpeg(dir_path, weights, q):\n",
        "    ims = sorted(glob.glob(os.path.join(dir_path, \"*\")))\n",
        "    scores = []\n",
        "    m = YOLO(weights)\n",
        "    for p in ims:\n",
        "        img = cv2.imread(p);\n",
        "        if img is None: continue\n",
        "        ok, enc = cv2.imencode(\".jpg\", img, [int(cv2.IMWRITE_JPEG_QUALITY), int(q)])\n",
        "        comp = cv2.imdecode(enc, cv2.IMREAD_COLOR) if ok else img\n",
        "        r = m.predict(source=comp, imgsz=IMGSZ_INFER, conf=0.25, iou=0.5, verbose=False)\n",
        "        if r and r[0].boxes is not None and r[0].boxes.conf is not None and len(r[0].boxes.conf)>0:\n",
        "            scores.append(float(r[0].boxes.conf.max().item()))\n",
        "    return float(np.mean(scores)) if scores else None\n",
        "\n",
        "for q in [60, 50, 40]:\n",
        "    s2 = avg_conf_after_jpeg(pgd_dir, STAGE2_WEIGHTS, q)\n",
        "    s3 = avg_conf_after_jpeg(pgd_dir, STAGE3_WEIGHTS, q)\n",
        "    print(f\"JPEG q={q}: stage2={s2}, stage3={s3}\")\n"
      ],
      "metadata": {
        "colab": {
          "base_uri": "https://localhost:8080/"
        },
        "id": "MWTCi1JF27za",
        "outputId": "b3068e2b-7688-4f38-bd5f-259838e89ae9"
      },
      "id": "MWTCi1JF27za",
      "execution_count": null,
      "outputs": [
        {
          "output_type": "stream",
          "name": "stdout",
          "text": [
            "JPEG q=60: stage2=0.7654612472182826, stage3=0.7461052238941193\n",
            "JPEG q=50: stage2=0.7662502715462133, stage3=0.7367408126592636\n",
            "JPEG q=40: stage2=0.7889694634236788, stage3=0.7562580585479737\n"
          ]
        }
      ]
    },
    {
      "cell_type": "code",
      "source": [
        "\n",
        "import os, glob, cv2, random, shutil\n",
        "from ultralytics import YOLO\n",
        "import torch\n",
        "\n",
        "\n",
        "SRC_IMG = f\"{DRIVE_ROOT}/data_stage2_adv/train/images\"\n",
        "SRC_LBL = f\"{DRIVE_ROOT}/data_stage2_adv/train/labels\"\n",
        "\n",
        "LOW_Q = [60, 50, 40]\n",
        "FRACTION = 0.15   # keep small to avoid distribution drift\n",
        "\n",
        "imgs = sorted(glob.glob(os.path.join(SRC_IMG, \"*\")))\n",
        "choices = imgs[::max(1, int(1/(FRACTION+1e-9)))]\n",
        "print(f\"Adding low-q JPEG to ~{len(choices)} / {len(imgs)} images\")\n",
        "\n",
        "def write_lowq_copy(src_img_path, q):\n",
        "    base = os.path.basename(src_img_path)\n",
        "    stem, ext = os.path.splitext(base)\n",
        "    dst_img = os.path.join(SRC_IMG, f\"{stem}_jq{q}{ext}\")\n",
        "    im = cv2.imread(src_img_path)\n",
        "    if im is None: return\n",
        "    ok, enc = cv2.imencode(\".jpg\", im, [int(cv2.IMWRITE_JPEG_QUALITY), int(q)])\n",
        "    comp = cv2.imdecode(enc, cv2.IMREAD_COLOR) if ok else im\n",
        "    cv2.imwrite(dst_img, comp)\n",
        "    # duplicate label\n",
        "    lbl_src = os.path.join(SRC_LBL, stem + \".txt\")\n",
        "    if os.path.exists(lbl_src):\n",
        "        shutil.copy2(lbl_src, os.path.join(SRC_LBL, f\"{stem}_jq{q}.txt\"))\n",
        "\n",
        "for p in choices:\n",
        "    q = random.choice(LOW_Q)\n",
        "    write_lowq_copy(p, q)\n",
        "\n",
        "# Fine-tune briefly from your JPEG-aware AT weights\n",
        "print(\"Low-JPEG-aware top-up fine-tune…\")\n",
        "\n",
        "model = YOLO(STAGE3_WEIGHTS)\n",
        "\n",
        "r = model.train(\n",
        "    data=STAGE3_YAML,          # same YAML pointing to data_stage2_adv/train\n",
        "    epochs=4,                  # 3–5 is enough\n",
        "    imgsz=IMGSZ_TRAIN,\n",
        "    batch=max(4, BATCH_S3//2),\n",
        "    lr0=LR0_S3 * 0.5,          # smaller LR for gentle adaptation\n",
        "    cos_lr=True,\n",
        "    weight_decay=0.0005,\n",
        "    patience=3,\n",
        "    device=0 if torch.cuda.is_available() else None,\n",
        "    project=PROJECT,\n",
        "    name=\"stage3_advtrain_jpegaware_lowQ\",\n",
        ")\n",
        "STAGE3_LOWQ_WEIGHTS = f\"{PROJECT}/stage3_advtrain_jpegaware_lowQ/weights/best.pt\"\n",
        "print(\"Low-Q JPEG-aware AT weights:\", STAGE3_LOWQ_WEIGHTS)\n"
      ],
      "metadata": {
        "colab": {
          "base_uri": "https://localhost:8080/"
        },
        "id": "0IHz9_kD3x9U",
        "outputId": "da849f6d-453a-411d-9cda-9301135168f4"
      },
      "id": "0IHz9_kD3x9U",
      "execution_count": null,
      "outputs": [
        {
          "output_type": "stream",
          "name": "stdout",
          "text": [
            "Adding low-q JPEG to ~70 / 415 images\n",
            "Low-JPEG-aware top-up fine-tune…\n",
            "Ultralytics 8.3.179 🚀 Python-3.11.13 torch-2.6.0+cu124 CUDA:0 (Tesla T4, 15095MiB)\n",
            "\u001b[34m\u001b[1mengine/trainer: \u001b[0magnostic_nms=False, amp=True, augment=False, auto_augment=randaugment, batch=4, bgr=0.0, box=7.5, cache=False, cfg=None, classes=None, close_mosaic=10, cls=0.5, conf=None, copy_paste=0.0, copy_paste_mode=flip, cos_lr=True, cutmix=0.0, data=/content/speedlimits_stage3.yaml, degrees=0.0, deterministic=True, device=0, dfl=1.5, dnn=False, dropout=0.0, dynamic=False, embed=None, epochs=4, erasing=0.4, exist_ok=False, fliplr=0.5, flipud=0.0, format=torchscript, fraction=1.0, freeze=None, half=False, hsv_h=0.015, hsv_s=0.7, hsv_v=0.4, imgsz=640, int8=False, iou=0.7, keras=False, kobj=1.0, line_width=None, lr0=0.00075, lrf=0.01, mask_ratio=4, max_det=300, mixup=0.0, mode=train, model=/content/drive/MyDrive/CAPSTONE/runs_speedlimits/stage3_advtrain/weights/best.pt, momentum=0.937, mosaic=1.0, multi_scale=False, name=stage3_advtrain_jpegaware_lowQ, nbs=64, nms=False, opset=None, optimize=False, optimizer=auto, overlap_mask=True, patience=3, perspective=0.0, plots=True, pose=12.0, pretrained=True, profile=False, project=/content/drive/MyDrive/CAPSTONE/runs_speedlimits, rect=False, resume=False, retina_masks=False, save=True, save_conf=False, save_crop=False, save_dir=/content/drive/MyDrive/CAPSTONE/runs_speedlimits/stage3_advtrain_jpegaware_lowQ, save_frames=False, save_json=False, save_period=-1, save_txt=False, scale=0.5, seed=0, shear=0.0, show=False, show_boxes=True, show_conf=True, show_labels=True, simplify=True, single_cls=False, source=None, split=val, stream_buffer=False, task=detect, time=None, tracker=botsort.yaml, translate=0.1, val=True, verbose=True, vid_stride=1, visualize=False, warmup_bias_lr=0.1, warmup_epochs=3.0, warmup_momentum=0.8, weight_decay=0.0005, workers=8, workspace=None\n",
            "\n",
            "                   from  n    params  module                                       arguments                     \n",
            "  0                  -1  1       464  ultralytics.nn.modules.conv.Conv             [3, 16, 3, 2]                 \n",
            "  1                  -1  1      4672  ultralytics.nn.modules.conv.Conv             [16, 32, 3, 2]                \n",
            "  2                  -1  1      7360  ultralytics.nn.modules.block.C2f             [32, 32, 1, True]             \n",
            "  3                  -1  1     18560  ultralytics.nn.modules.conv.Conv             [32, 64, 3, 2]                \n",
            "  4                  -1  2     49664  ultralytics.nn.modules.block.C2f             [64, 64, 2, True]             \n",
            "  5                  -1  1     73984  ultralytics.nn.modules.conv.Conv             [64, 128, 3, 2]               \n",
            "  6                  -1  2    197632  ultralytics.nn.modules.block.C2f             [128, 128, 2, True]           \n",
            "  7                  -1  1    295424  ultralytics.nn.modules.conv.Conv             [128, 256, 3, 2]              \n",
            "  8                  -1  1    460288  ultralytics.nn.modules.block.C2f             [256, 256, 1, True]           \n",
            "  9                  -1  1    164608  ultralytics.nn.modules.block.SPPF            [256, 256, 5]                 \n",
            " 10                  -1  1         0  torch.nn.modules.upsampling.Upsample         [None, 2, 'nearest']          \n",
            " 11             [-1, 6]  1         0  ultralytics.nn.modules.conv.Concat           [1]                           \n",
            " 12                  -1  1    148224  ultralytics.nn.modules.block.C2f             [384, 128, 1]                 \n",
            " 13                  -1  1         0  torch.nn.modules.upsampling.Upsample         [None, 2, 'nearest']          \n",
            " 14             [-1, 4]  1         0  ultralytics.nn.modules.conv.Concat           [1]                           \n",
            " 15                  -1  1     37248  ultralytics.nn.modules.block.C2f             [192, 64, 1]                  \n",
            " 16                  -1  1     36992  ultralytics.nn.modules.conv.Conv             [64, 64, 3, 2]                \n",
            " 17            [-1, 12]  1         0  ultralytics.nn.modules.conv.Concat           [1]                           \n",
            " 18                  -1  1    123648  ultralytics.nn.modules.block.C2f             [192, 128, 1]                 \n",
            " 19                  -1  1    147712  ultralytics.nn.modules.conv.Conv             [128, 128, 3, 2]              \n",
            " 20             [-1, 9]  1         0  ultralytics.nn.modules.conv.Concat           [1]                           \n",
            " 21                  -1  1    493056  ultralytics.nn.modules.block.C2f             [384, 256, 1]                 \n",
            " 22        [15, 18, 21]  1    751507  ultralytics.nn.modules.head.Detect           [1, [64, 128, 256]]           \n",
            "Model summary: 129 layers, 3,011,043 parameters, 3,011,027 gradients, 8.2 GFLOPs\n",
            "\n",
            "Transferred 355/355 items from pretrained weights\n",
            "Freezing layer 'model.22.dfl.conv.weight'\n",
            "\u001b[34m\u001b[1mAMP: \u001b[0mrunning Automatic Mixed Precision (AMP) checks...\n",
            "\u001b[34m\u001b[1mAMP: \u001b[0mchecks passed ✅\n",
            "\u001b[34m\u001b[1mtrain: \u001b[0mFast image access ✅ (ping: 0.6±0.1 ms, read: 26.3±9.1 MB/s, size: 47.9 KB)\n"
          ]
        },
        {
          "output_type": "stream",
          "name": "stderr",
          "text": [
            "\u001b[34m\u001b[1mtrain: \u001b[0mScanning /content/drive/MyDrive/CAPSTONE/data_stage2_adv/train/labels... 485 images, 0 backgrounds, 0 corrupt: 100%|██████████| 485/485 [00:03<00:00, 140.12it/s]\n"
          ]
        },
        {
          "output_type": "stream",
          "name": "stdout",
          "text": [
            "\u001b[34m\u001b[1mtrain: \u001b[0mNew cache created: /content/drive/MyDrive/CAPSTONE/data_stage2_adv/train/labels.cache\n",
            "\u001b[34m\u001b[1malbumentations: \u001b[0mBlur(p=0.01, blur_limit=(3, 7)), MedianBlur(p=0.01, blur_limit=(3, 7)), ToGray(p=0.01, method='weighted_average', num_output_channels=3), CLAHE(p=0.01, clip_limit=(1.0, 4.0), tile_grid_size=(8, 8))\n",
            "\u001b[34m\u001b[1mval: \u001b[0mFast image access ✅ (ping: 1.5±1.5 ms, read: 24.1±3.4 MB/s, size: 39.4 KB)\n"
          ]
        },
        {
          "output_type": "stream",
          "name": "stderr",
          "text": [
            "\u001b[34m\u001b[1mval: \u001b[0mScanning /content/drive/MyDrive/CAPSTONE/data_stage2/valid/labels.cache... 52 images, 0 backgrounds, 0 corrupt: 100%|██████████| 52/52 [00:00<?, ?it/s]\n"
          ]
        },
        {
          "output_type": "stream",
          "name": "stdout",
          "text": [
            "Plotting labels to /content/drive/MyDrive/CAPSTONE/runs_speedlimits/stage3_advtrain_jpegaware_lowQ/labels.jpg... \n",
            "\u001b[34m\u001b[1moptimizer:\u001b[0m 'optimizer=auto' found, ignoring 'lr0=0.00075' and 'momentum=0.937' and determining best 'optimizer', 'lr0' and 'momentum' automatically... \n",
            "\u001b[34m\u001b[1moptimizer:\u001b[0m AdamW(lr=0.002, momentum=0.9) with parameter groups 57 weight(decay=0.0), 64 weight(decay=0.0005), 63 bias(decay=0.0)\n",
            "Image sizes 640 train, 640 val\n",
            "Using 2 dataloader workers\n",
            "Logging results to \u001b[1m/content/drive/MyDrive/CAPSTONE/runs_speedlimits/stage3_advtrain_jpegaware_lowQ\u001b[0m\n",
            "Starting training for 4 epochs...\n",
            "\n",
            "      Epoch    GPU_mem   box_loss   cls_loss   dfl_loss  Instances       Size\n"
          ]
        },
        {
          "output_type": "stream",
          "name": "stderr",
          "text": [
            "        1/4      0.68G     0.7022     0.4773     0.9005          1        640: 100%|██████████| 122/122 [00:17<00:00,  7.10it/s]\n",
            "                 Class     Images  Instances      Box(P          R      mAP50  mAP50-95): 100%|██████████| 7/7 [00:00<00:00,  7.86it/s]"
          ]
        },
        {
          "output_type": "stream",
          "name": "stdout",
          "text": [
            "                   all         52         52      0.998          1      0.995      0.881\n"
          ]
        },
        {
          "output_type": "stream",
          "name": "stderr",
          "text": [
            "\n"
          ]
        },
        {
          "output_type": "stream",
          "name": "stdout",
          "text": [
            "\n",
            "      Epoch    GPU_mem   box_loss   cls_loss   dfl_loss  Instances       Size\n"
          ]
        },
        {
          "output_type": "stream",
          "name": "stderr",
          "text": [
            "        2/4     0.775G     0.6815     0.4904      0.875          0        640: 100%|██████████| 122/122 [00:15<00:00,  7.76it/s]\n",
            "                 Class     Images  Instances      Box(P          R      mAP50  mAP50-95): 100%|██████████| 7/7 [00:00<00:00, 12.77it/s]"
          ]
        },
        {
          "output_type": "stream",
          "name": "stdout",
          "text": [
            "                   all         52         52      0.999          1      0.995      0.855\n"
          ]
        },
        {
          "output_type": "stream",
          "name": "stderr",
          "text": [
            "\n"
          ]
        },
        {
          "output_type": "stream",
          "name": "stdout",
          "text": [
            "\n",
            "      Epoch    GPU_mem   box_loss   cls_loss   dfl_loss  Instances       Size\n"
          ]
        },
        {
          "output_type": "stream",
          "name": "stderr",
          "text": [
            "        3/4     0.775G     0.7285     0.5153     0.9114          4        640: 100%|██████████| 122/122 [00:15<00:00,  7.66it/s]\n",
            "                 Class     Images  Instances      Box(P          R      mAP50  mAP50-95): 100%|██████████| 7/7 [00:00<00:00, 13.13it/s]"
          ]
        },
        {
          "output_type": "stream",
          "name": "stdout",
          "text": [
            "                   all         52         52      0.998          1      0.995      0.891\n"
          ]
        },
        {
          "output_type": "stream",
          "name": "stderr",
          "text": [
            "\n"
          ]
        },
        {
          "output_type": "stream",
          "name": "stdout",
          "text": [
            "\n",
            "      Epoch    GPU_mem   box_loss   cls_loss   dfl_loss  Instances       Size\n"
          ]
        },
        {
          "output_type": "stream",
          "name": "stderr",
          "text": [
            "        4/4     0.775G     0.6651     0.4538     0.8838          1        640: 100%|██████████| 122/122 [00:15<00:00,  7.66it/s]\n",
            "                 Class     Images  Instances      Box(P          R      mAP50  mAP50-95): 100%|██████████| 7/7 [00:00<00:00, 13.04it/s]"
          ]
        },
        {
          "output_type": "stream",
          "name": "stdout",
          "text": [
            "                   all         52         52      0.999          1      0.995      0.901\n"
          ]
        },
        {
          "output_type": "stream",
          "name": "stderr",
          "text": [
            "\n"
          ]
        },
        {
          "output_type": "stream",
          "name": "stdout",
          "text": [
            "\n",
            "4 epochs completed in 0.019 hours.\n",
            "Optimizer stripped from /content/drive/MyDrive/CAPSTONE/runs_speedlimits/stage3_advtrain_jpegaware_lowQ/weights/last.pt, 6.2MB\n",
            "Optimizer stripped from /content/drive/MyDrive/CAPSTONE/runs_speedlimits/stage3_advtrain_jpegaware_lowQ/weights/best.pt, 6.2MB\n",
            "\n",
            "Validating /content/drive/MyDrive/CAPSTONE/runs_speedlimits/stage3_advtrain_jpegaware_lowQ/weights/best.pt...\n",
            "Ultralytics 8.3.179 🚀 Python-3.11.13 torch-2.6.0+cu124 CUDA:0 (Tesla T4, 15095MiB)\n",
            "Model summary (fused): 72 layers, 3,005,843 parameters, 0 gradients, 8.1 GFLOPs\n"
          ]
        },
        {
          "output_type": "stream",
          "name": "stderr",
          "text": [
            "                 Class     Images  Instances      Box(P          R      mAP50  mAP50-95): 100%|██████████| 7/7 [00:01<00:00,  4.22it/s]\n"
          ]
        },
        {
          "output_type": "stream",
          "name": "stdout",
          "text": [
            "                   all         52         52      0.999          1      0.995      0.901\n",
            "Speed: 1.1ms preprocess, 9.9ms inference, 0.0ms loss, 7.4ms postprocess per image\n",
            "Results saved to \u001b[1m/content/drive/MyDrive/CAPSTONE/runs_speedlimits/stage3_advtrain_jpegaware_lowQ\u001b[0m\n",
            "Low-Q JPEG-aware AT weights: /content/drive/MyDrive/CAPSTONE/runs_speedlimits/stage3_advtrain_jpegaware_lowQ/weights/best.pt\n"
          ]
        }
      ]
    },
    {
      "cell_type": "code",
      "source": [
        "# Point to your new JPEG-aware-lowQ AT checkpoint\n",
        "STAGE3_WEIGHTS = \"/content/drive/MyDrive/CAPSTONE/runs_speedlimits/stage3_advtrain_jpegaware_lowQ/weights/best.pt\"\n",
        "print(\"Using Stage-3 weights:\", STAGE3_WEIGHTS)\n"
      ],
      "metadata": {
        "colab": {
          "base_uri": "https://localhost:8080/"
        },
        "id": "RTPdr7Kg4ETP",
        "outputId": "46ee711e-e547-49aa-ad33-2f1b502267e6"
      },
      "id": "RTPdr7Kg4ETP",
      "execution_count": null,
      "outputs": [
        {
          "output_type": "stream",
          "name": "stdout",
          "text": [
            "Using Stage-3 weights: /content/drive/MyDrive/CAPSTONE/runs_speedlimits/stage3_advtrain_jpegaware_lowQ/weights/best.pt\n"
          ]
        }
      ]
    },
    {
      "cell_type": "code",
      "source": [
        "# Cell 10 — prepare eval images\n",
        "import os, glob, shutil, cv2\n",
        "\n",
        "EVAL_DIR = f\"{DRIVE_ROOT}/eval_at_only\"\n",
        "os.makedirs(EVAL_DIR, exist_ok=True)\n",
        "\n",
        "clean_dir = os.path.join(EVAL_DIR, \"clean\")\n",
        "pgd_dir   = os.path.join(EVAL_DIR, \"pgd\")\n",
        "jpeg_dir  = os.path.join(EVAL_DIR, \"pgd_jpeg\")\n",
        "bil_dir   = os.path.join(EVAL_DIR, \"pgd_bilateral\")\n",
        "for d in [clean_dir, pgd_dir, jpeg_dir, bil_dir]:\n",
        "    os.makedirs(d, exist_ok=True)\n",
        "\n",
        "# copy clean test images\n",
        "for p in glob.glob(os.path.join(TEST_IMAGES, \"*\")):\n",
        "    if os.path.isdir(p): continue\n",
        "    shutil.copy2(p, os.path.join(clean_dir, os.path.basename(p)))\n",
        "\n",
        "# craft PGD using STAGE2_WEIGHTS (stronger test), then defenses\n",
        "for p in sorted(glob.glob(os.path.join(clean_dir, \"*\"))):\n",
        "    img = cv2.imread(p)\n",
        "    if img is None: continue\n",
        "    adv = pgd_attack_predbox(img, STAGE2_WEIGHTS, imgsz_train=IMGSZ_TRAIN, eps=EPS, alpha=ALPHA, steps=STEPS, pad_px=PAD_PX)\n",
        "    base = os.path.basename(p)\n",
        "    cv2.imwrite(os.path.join(pgd_dir, base), adv)\n",
        "    cv2.imwrite(os.path.join(jpeg_dir, base), jpeg_compress(adv, quality=75))\n",
        "    cv2.imwrite(os.path.join(bil_dir,  base), bilateral(adv))\n",
        "print(\"Eval images prepared:\", clean_dir, pgd_dir, jpeg_dir, bil_dir)\n"
      ],
      "metadata": {
        "colab": {
          "base_uri": "https://localhost:8080/"
        },
        "id": "YQaA5-vk427S",
        "outputId": "ab92c5de-7af0-43ad-f2d1-a428394427c4"
      },
      "id": "YQaA5-vk427S",
      "execution_count": null,
      "outputs": [
        {
          "output_type": "stream",
          "name": "stdout",
          "text": [
            "Eval images prepared: /content/drive/MyDrive/CAPSTONE/eval_at_only/clean /content/drive/MyDrive/CAPSTONE/eval_at_only/pgd /content/drive/MyDrive/CAPSTONE/eval_at_only/pgd_jpeg /content/drive/MyDrive/CAPSTONE/eval_at_only/pgd_bilateral\n"
          ]
        }
      ]
    },
    {
      "cell_type": "code",
      "source": [
        "# Cell 11 — summarize confidences and simple detection rates\n",
        "import os, glob, csv\n",
        "from ultralytics import YOLO\n",
        "\n",
        "def summarize(dir_path, weights, tag, out_csv):\n",
        "    rows = [[\"image\",\"model\",\"score\"]]\n",
        "    ims = sorted(glob.glob(os.path.join(dir_path, \"*\")))\n",
        "    m = YOLO(weights)\n",
        "    det_count = 0\n",
        "    scores = []\n",
        "    for p in ims:\n",
        "        r = m.predict(source=p, imgsz=IMGSZ_INFER, conf=0.25, iou=0.5, verbose=False)\n",
        "        score = None\n",
        "        if r and r[0].boxes is not None and r[0].boxes.conf is not None and len(r[0].boxes.conf)>0:\n",
        "            score = float(r[0].boxes.conf.max().item())\n",
        "            det_count += 1\n",
        "            scores.append(score)\n",
        "        rows.append([os.path.basename(p), tag, score])\n",
        "    os.makedirs(os.path.dirname(out_csv), exist_ok=True)\n",
        "    with open(out_csv, \"w\", newline=\"\") as f:\n",
        "        csv.writer(f).writerows(rows)\n",
        "    avg = float(np.mean(scores)) if scores else None\n",
        "    total = len([p for p in ims if not os.path.isdir(p)])\n",
        "    print(f\"{tag} on {os.path.basename(dir_path)} — det_rate={det_count}/{total}, avg_conf={avg}\")\n",
        "    return det_count, total, avg\n",
        "\n",
        "summ_dir = os.path.join(EVAL_DIR, \"summaries\")\n",
        "os.makedirs(summ_dir, exist_ok=True)\n",
        "\n",
        "print(\"== CLEAN ==\")\n",
        "summarize(clean_dir, STAGE2_WEIGHTS, \"stage2\", os.path.join(summ_dir, \"clean_stage2.csv\"))\n",
        "summarize(clean_dir, STAGE3_WEIGHTS, \"stage3\", os.path.join(summ_dir, \"clean_stage3.csv\"))\n",
        "\n",
        "print(\"\\n== PGD ==\")\n",
        "summarize(pgd_dir,  STAGE2_WEIGHTS, \"stage2\", os.path.join(summ_dir, \"pgd_stage2.csv\"))\n",
        "summarize(pgd_dir,  STAGE3_WEIGHTS, \"stage3\", os.path.join(summ_dir, \"pgd_stage3.csv\"))\n",
        "\n",
        "print(\"\\n== PGD + JPEG ==\")\n",
        "summarize(jpeg_dir, STAGE2_WEIGHTS, \"stage2\", os.path.join(summ_dir, \"pgd_jpeg_stage2.csv\"))\n",
        "summarize(jpeg_dir, STAGE3_WEIGHTS, \"stage3\", os.path.join(summ_dir, \"pgd_jpeg_stage3.csv\"))\n",
        "\n",
        "print(\"\\n== PGD + Bilateral ==\")\n",
        "summarize(bil_dir,  STAGE2_WEIGHTS, \"stage2\", os.path.join(summ_dir, \"pgd_bilateral_stage2.csv\"))\n",
        "summarize(bil_dir,  STAGE3_WEIGHTS, \"stage3\", os.path.join(summ_dir, \"pgd_bilateral_stage3.csv\"))\n",
        "\n",
        "print(\"\\nCSV summaries saved to:\", summ_dir)\n"
      ],
      "metadata": {
        "colab": {
          "base_uri": "https://localhost:8080/"
        },
        "id": "_xc3Mse75DYN",
        "outputId": "207fc0f2-3ac8-4fbe-ac51-547c11a61676"
      },
      "id": "_xc3Mse75DYN",
      "execution_count": null,
      "outputs": [
        {
          "output_type": "stream",
          "name": "stdout",
          "text": [
            "== CLEAN ==\n",
            "stage2 on clean — det_rate=20/20, avg_conf=0.8382613360881805\n",
            "stage3 on clean — det_rate=20/20, avg_conf=0.8260927826166153\n",
            "\n",
            "== PGD ==\n",
            "stage2 on pgd — det_rate=19/20, avg_conf=0.7625484325383839\n",
            "stage3 on pgd — det_rate=20/20, avg_conf=0.7936780989170075\n",
            "\n",
            "== PGD + JPEG ==\n",
            "stage2 on pgd_jpeg — det_rate=20/20, avg_conf=0.7379672572016716\n",
            "stage3 on pgd_jpeg — det_rate=20/20, avg_conf=0.7965510696172714\n",
            "\n",
            "== PGD + Bilateral ==\n",
            "stage2 on pgd_bilateral — det_rate=19/20, avg_conf=0.8022068519341318\n",
            "stage3 on pgd_bilateral — det_rate=20/20, avg_conf=0.7937886744737626\n",
            "\n",
            "CSV summaries saved to: /content/drive/MyDrive/CAPSTONE/eval_at_only/summaries\n"
          ]
        }
      ]
    },
    {
      "cell_type": "code",
      "source": [
        "# Quick spot-check: low-Q JPEG after PGD (crafted with Stage-2)\n",
        "import cv2, glob, os, numpy as np\n",
        "from ultralytics import YOLO\n",
        "\n",
        "def avg_conf_after_jpeg(dir_path, weights, q):\n",
        "    ims = sorted(glob.glob(os.path.join(dir_path, \"*\")))\n",
        "    m = YOLO(weights)\n",
        "    scores = []\n",
        "    for p in ims:\n",
        "        img = cv2.imread(p)\n",
        "        if img is None: continue\n",
        "        ok, enc = cv2.imencode(\".jpg\", img, [int(cv2.IMWRITE_JPEG_QUALITY), int(q)])\n",
        "        comp = cv2.imdecode(enc, cv2.IMREAD_COLOR) if ok else img\n",
        "        r = m.predict(source=comp, imgsz=IMGSZ_INFER, conf=0.25, iou=0.5, verbose=False)\n",
        "        if r and r[0].boxes is not None and r[0].boxes.conf is not None and len(r[0].boxes.conf)>0:\n",
        "            scores.append(float(r[0].boxes.conf.max().item()))\n",
        "    return float(np.mean(scores)) if scores else None\n",
        "\n",
        "for q in [60, 50, 40]:\n",
        "    s2 = avg_conf_after_jpeg(pgd_dir, STAGE2_WEIGHTS, q)\n",
        "    s3 = avg_conf_after_jpeg(pgd_dir, STAGE3_WEIGHTS, q)\n",
        "    print(f\"JPEG q={q}: stage2={s2}, stage3={s3}\")\n"
      ],
      "metadata": {
        "colab": {
          "base_uri": "https://localhost:8080/"
        },
        "id": "T7FIadtY5ihr",
        "outputId": "e2224897-54b3-42a5-e005-dec3572d1b0e"
      },
      "id": "T7FIadtY5ihr",
      "execution_count": null,
      "outputs": [
        {
          "output_type": "stream",
          "name": "stdout",
          "text": [
            "JPEG q=60: stage2=0.7665161302215174, stage3=0.7944894760847092\n",
            "JPEG q=50: stage2=0.7675008460095054, stage3=0.792152926325798\n",
            "JPEG q=40: stage2=0.7897098315389532, stage3=0.8000829935073852\n"
          ]
        }
      ]
    },
    {
      "cell_type": "code",
      "source": [
        "# make sure this points to your low-Q JPEG-aware AT weights\n",
        "STAGE3_WEIGHTS = \"/content/drive/MyDrive/CAPSTONE/runs_speedlimits/stage3_advtrain_jpegaware_lowQ/weights/best.pt\"\n",
        "print(\"Using Stage-3 weights:\", STAGE3_WEIGHTS)\n",
        "\n",
        "import os, glob, csv, cv2, numpy as np\n",
        "from ultralytics import YOLO\n",
        "\n",
        "EVAL_DIR  = \"/content/drive/MyDrive/CAPSTONE/eval_at_only\"\n",
        "summ_dir  = os.path.join(EVAL_DIR, \"summaries\")\n",
        "pgd_dir   = os.path.join(EVAL_DIR, \"pgd\")         # PGD crafted earlier with Stage-2\n",
        "ABLATE_CSV = os.path.join(summ_dir, \"jpeg_ablation.csv\")\n",
        "QUALS = [95, 85, 75, 60, 50, 40]\n",
        "\n",
        "def avg_conf_after_jpeg(dir_path, weights, q):\n",
        "    ims = sorted(glob.glob(os.path.join(dir_path, \"*\")))\n",
        "    m = YOLO(weights)\n",
        "    scores = []\n",
        "    for p in ims:\n",
        "        img = cv2.imread(p)\n",
        "        if img is None: continue\n",
        "        ok, enc = cv2.imencode(\".jpg\", img, [int(cv2.IMWRITE_JPEG_QUALITY), int(q)])\n",
        "        comp = cv2.imdecode(enc, cv2.IMREAD_COLOR) if ok else img\n",
        "        r = m.predict(source=comp, imgsz=896, conf=0.25, iou=0.5, verbose=False)\n",
        "        if r and r[0].boxes is not None and r[0].boxes.conf is not None and len(r[0].boxes.conf)>0:\n",
        "            scores.append(float(r[0].boxes.conf.max().item()))\n",
        "    return float(np.mean(scores)) if scores else None\n",
        "\n",
        "rows = [[\"jpeg_quality\",\"model\",\"avg_conf_on_pgd\"]]\n",
        "# Stage-2 path from earlier auto-discovery:\n",
        "STAGE2_WEIGHTS\n",
        "for q in QUALS:\n",
        "    s2 = avg_conf_after_jpeg(pgd_dir, STAGE2_WEIGHTS, q)\n",
        "    s3 = avg_conf_after_jpeg(pgd_dir, STAGE3_WEIGHTS, q)\n",
        "    rows += [[q, \"stage2\", s2], [q, \"stage3\", s3]]\n",
        "    print(f\"JPEG q={q}: stage2={s2}, stage3={s3}\")\n",
        "\n",
        "os.makedirs(summ_dir, exist_ok=True)\n",
        "with open(ABLATE_CSV, \"w\", newline=\"\") as f:\n",
        "    csv.writer(f).writerows(rows)\n",
        "print(\"Refreshed:\", ABLATE_CSV)\n"
      ],
      "metadata": {
        "colab": {
          "base_uri": "https://localhost:8080/"
        },
        "id": "lbqNZUnK8y97",
        "outputId": "8c9dfd89-3dee-4ed8-93ee-0eb292a2b062"
      },
      "id": "lbqNZUnK8y97",
      "execution_count": null,
      "outputs": [
        {
          "output_type": "stream",
          "name": "stdout",
          "text": [
            "Using Stage-3 weights: /content/drive/MyDrive/CAPSTONE/runs_speedlimits/stage3_advtrain_jpegaware_lowQ/weights/best.pt\n",
            "JPEG q=95: stage2=0.7629594818541878, stage3=0.7942180395126343\n",
            "JPEG q=85: stage2=0.7463103130459785, stage3=0.798262032866478\n",
            "JPEG q=75: stage2=0.7418202519416809, stage3=0.796700581908226\n",
            "JPEG q=60: stage2=0.7665161302215174, stage3=0.7944894760847092\n",
            "JPEG q=50: stage2=0.7675008460095054, stage3=0.792152926325798\n",
            "JPEG q=40: stage2=0.7897098315389532, stage3=0.8000829935073852\n",
            "Refreshed: /content/drive/MyDrive/CAPSTONE/eval_at_only/summaries/jpeg_ablation.csv\n"
          ]
        }
      ]
    },
    {
      "cell_type": "code",
      "source": [
        "# Final Cell — Summary figure: bars (clean/PGD/defenses) + ε-sweep + JPEG ablation\n",
        "import os, csv, numpy as np\n",
        "import matplotlib.pyplot as plt\n",
        "\n",
        "SUMM_DIR = \"/content/drive/MyDrive/CAPSTONE/eval_at_only/summaries\"\n",
        "OUT_PNG  = \"/content/drive/MyDrive/CAPSTONE/final_summary.png\"\n",
        "\n",
        "def read_avg_conf_and_det(path):\n",
        "    \"\"\"Return (avg_conf, det_rate, total). CSV schema: image,model,score\"\"\"\n",
        "    if not os.path.exists(path):\n",
        "        return None, None, None\n",
        "    scores = []\n",
        "    total = 0\n",
        "    with open(path, \"r\") as f:\n",
        "        r = csv.DictReader(f)\n",
        "        for row in r:\n",
        "\n",
        "            if \"score\" not in row:\n",
        "                continue\n",
        "            total += 1\n",
        "            s = row[\"score\"]\n",
        "            if s not in (None, \"\", \"None\"):\n",
        "                try:\n",
        "                    scores.append(float(s))\n",
        "                except:\n",
        "                    pass\n",
        "    det_rate = len(scores)\n",
        "    avg_conf = float(np.mean(scores)) if scores else None\n",
        "    return avg_conf, det_rate, total\n",
        "\n",
        "# --- 1) Bar chart data: clean, PGD, PGD+JPEG, PGD+Bilateral ---\n",
        "files = {\n",
        "    \"Clean\":        (\"clean_stage2.csv\",        \"clean_stage3.csv\"),\n",
        "    \"PGD\":          (\"pgd_stage2.csv\",          \"pgd_stage3.csv\"),\n",
        "    \"PGD + JPEG\":   (\"pgd_jpeg_stage2.csv\",     \"pgd_jpeg_stage3.csv\"),\n",
        "    \"PGD + Bilat.\": (\"pgd_bilateral_stage2.csv\",\"pgd_bilateral_stage3.csv\"),\n",
        "}\n",
        "\n",
        "bar_labels = []\n",
        "stage2_means, stage3_means = [], []\n",
        "stage2_det_text, stage3_det_text = [], []\n",
        "\n",
        "for k,(f2,f3) in files.items():\n",
        "    a2, d2, t2 = read_avg_conf_and_det(os.path.join(SUMM_DIR, f2))\n",
        "    a3, d3, t3 = read_avg_conf_and_det(os.path.join(SUMM_DIR, f3))\n",
        "    bar_labels.append(k)\n",
        "    stage2_means.append(a2 if a2 is not None else 0.0)\n",
        "    stage3_means.append(a3 if a3 is not None else 0.0)\n",
        "    stage2_det_text.append(f\"{d2}/{t2}\" if d2 is not None else \"—\")\n",
        "    stage3_det_text.append(f\"{d3}/{t3}\" if d3 is not None else \"—\")\n",
        "\n",
        "# --- 2) ε-sweep line data ---\n",
        "eps_path = os.path.join(SUMM_DIR, \"eps_sweep_whitebox.csv\")\n",
        "eps_vals_s2, eps_avg_s2 = [], []\n",
        "eps_vals_s3, eps_avg_s3 = [], []\n",
        "if os.path.exists(eps_path):\n",
        "    with open(eps_path, \"r\") as f:\n",
        "        r = csv.DictReader(f)\n",
        "        for row in r:\n",
        "            try:\n",
        "                e = float(row[\"epsilon\"])\n",
        "                m = row[\"model\"]\n",
        "                a = row[\"avg_conf_whitebox\"]\n",
        "                a = float(a) if a not in (None,\"\",\"None\") else None\n",
        "            except Exception:\n",
        "                continue\n",
        "            if a is None:\n",
        "                continue\n",
        "            if m == \"stage2\":\n",
        "                eps_vals_s2.append(e); eps_avg_s2.append(a)\n",
        "            elif m == \"stage3\":\n",
        "                eps_vals_s3.append(e); eps_avg_s3.append(a)\n",
        "    # sort by epsilon\n",
        "    order2 = np.argsort(eps_vals_s2); order3 = np.argsort(eps_vals_s3)\n",
        "    eps_vals_s2 = list(np.array(eps_vals_s2)[order2])\n",
        "    eps_avg_s2  = list(np.array(eps_avg_s2)[order2])\n",
        "    eps_vals_s3 = list(np.array(eps_vals_s3)[order3])\n",
        "    eps_avg_s3  = list(np.array(eps_avg_s3)[order3])\n",
        "\n",
        "# --- 3) JPEG ablation line data ---\n",
        "jpeg_path = os.path.join(SUMM_DIR, \"jpeg_ablation.csv\")\n",
        "jpeg_q_s2, jpeg_avg_s2 = [], []\n",
        "jpeg_q_s3, jpeg_avg_s3 = [], []\n",
        "if os.path.exists(jpeg_path):\n",
        "    with open(jpeg_path, \"r\") as f:\n",
        "        r = csv.DictReader(f)\n",
        "        for row in r:\n",
        "            try:\n",
        "                q   = int(float(row[\"jpeg_quality\"]))\n",
        "                m   = row[\"model\"]\n",
        "                avg = row[\"avg_conf_on_pgd\"]\n",
        "                avg = float(avg) if avg not in (None,\"\",\"None\") else None\n",
        "            except Exception:\n",
        "                continue\n",
        "            if avg is None:\n",
        "                continue\n",
        "            if m == \"stage2\":\n",
        "                jpeg_q_s2.append(q); jpeg_avg_s2.append(avg)\n",
        "            elif m == \"stage3\":\n",
        "                jpeg_q_s3.append(q); jpeg_avg_s3.append(avg)\n",
        "    # sort by quality\n",
        "    o2 = np.argsort(jpeg_q_s2); o3 = np.argsort(jpeg_q_s3)\n",
        "    jpeg_q_s2   = list(np.array(jpeg_q_s2)[o2]); jpeg_avg_s2 = list(np.array(jpeg_avg_s2)[o2])\n",
        "    jpeg_q_s3   = list(np.array(jpeg_q_s3)[o3]); jpeg_avg_s3 = list(np.array(jpeg_avg_s3)[o3])\n",
        "\n",
        "# --- Plot: single figure with 3 panels ---\n",
        "fig, axes = plt.subplots(1, 3, figsize=(18, 5))\n",
        "\n",
        "# Panel A: grouped bars\n",
        "x = np.arange(len(bar_labels))\n",
        "w = 0.35\n",
        "axes[0].bar(x - w/2, stage2_means, width=w, label=\"Stage-2\")\n",
        "axes[0].bar(x + w/2, stage3_means, width=w, label=\"Stage-3\")\n",
        "axes[0].set_xticks(x)\n",
        "axes[0].set_xticklabels(bar_labels, rotation=15)\n",
        "axes[0].set_ylabel(\"Avg confidence\")\n",
        "axes[0].set_title(\"Clean vs Attacked vs Defended\")\n",
        "axes[0].legend()\n",
        "# annotate det-rate on bars\n",
        "for xi, v, txt in zip(x - w/2, stage2_means, stage2_det_text):\n",
        "    axes[0].text(xi, v + 0.01, txt, ha=\"center\", va=\"bottom\", fontsize=8)\n",
        "for xi, v, txt in zip(x + w/2, stage3_means, stage3_det_text):\n",
        "    axes[0].text(xi, v + 0.01, txt, ha=\"center\", va=\"bottom\", fontsize=8)\n",
        "\n",
        "# Panel B: epsilon sweep\n",
        "if eps_vals_s2 and eps_vals_s3:\n",
        "    axes[1].plot(eps_vals_s2, eps_avg_s2, marker=\"o\", label=\"Stage-2\")\n",
        "    axes[1].plot(eps_vals_s3, eps_avg_s3, marker=\"o\", label=\"Stage-3\")\n",
        "    axes[1].set_xlabel(\"epsilon (L_inf)\")\n",
        "    axes[1].set_ylabel(\"Avg confidence\")\n",
        "    axes[1].set_title(\"White-box robustness (avg conf vs ε)\")\n",
        "    axes[1].legend()\n",
        "else:\n",
        "    axes[1].text(0.5, 0.5, \"eps_sweep_whitebox.csv not found\", ha=\"center\", va=\"center\")\n",
        "    axes[1].axis(\"off\")\n",
        "\n",
        "# Panel C: JPEG ablation\n",
        "if jpeg_q_s2 and jpeg_q_s3:\n",
        "    axes[2].plot(jpeg_q_s2, jpeg_avg_s2, marker=\"o\", label=\"Stage-2\")\n",
        "    axes[2].plot(jpeg_q_s3, jpeg_avg_s3, marker=\"o\", label=\"Stage-3\")\n",
        "    axes[2].set_xlabel(\"JPEG quality (q)\")\n",
        "    axes[2].set_ylabel(\"Avg confidence on PGD\")\n",
        "    axes[2].set_title(\"JPEG defense ablation\")\n",
        "    axes[2].invert_xaxis()\n",
        "    axes[2].legend()\n",
        "else:\n",
        "    axes[2].text(0.5, 0.5, \"jpeg_ablation.csv not found\", ha=\"center\", va=\"center\")\n",
        "    axes[2].axis(\"off\")\n",
        "\n",
        "fig.suptitle(\"Speed-Limit YOLOv8 — Adversarial Training Summary\", y=1.02, fontsize=14)\n",
        "fig.tight_layout()\n",
        "plt.savefig(OUT_PNG, dpi=200, bbox_inches=\"tight\")\n",
        "plt.show()\n",
        "print(\"Saved summary to:\", OUT_PNG)\n"
      ],
      "metadata": {
        "colab": {
          "base_uri": "https://localhost:8080/",
          "height": 404
        },
        "id": "WNYWEUjc5jlU",
        "outputId": "5ac22e52-a186-421e-9974-0521e7c295d9"
      },
      "id": "WNYWEUjc5jlU",
      "execution_count": null,
      "outputs": [
        {
          "output_type": "display_data",
          "data": {
            "text/plain": [
              "<Figure size 1800x500 with 3 Axes>"
            ],
            "image/png": "[encoded data removed]"
          },
          "metadata": {}
        },
        {
          "output_type": "stream",
          "name": "stdout",
          "text": [
            "Saved summary to: /content/drive/MyDrive/CAPSTONE/final_summary.png\n"
          ]
        }
      ]
    },
    {
      "cell_type": "markdown",
      "source": [
        "**Figure:** Summary of adversarial robustness for speed-limit YOLOv8.  \n",
        "Left: On clean images both models detect all signs; under PGD (ε=8/255) the AT model improves detection (20/20) and confidence; JPEG defense further boosts robustness.  \n",
        "Middle: White-box ε-sweep shows a crossover—AT overtakes the baseline at ε≥8/255.  \n",
        "Right: JPEG ablation on PGD—best range is q≈75–85; after JPEG-aware fine-tunes, the AT model also exceeds the baseline at harsh qualities (q≤60).\n"
      ],
      "metadata": {
        "id": "Vv9fWWIo9KKN"
      },
      "id": "Vv9fWWIo9KKN"
    }
  ]
}